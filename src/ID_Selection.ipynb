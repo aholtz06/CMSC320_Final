{
 "metadata": {
  "language_info": {
   "codemirror_mode": {
    "name": "ipython",
    "version": 3
   },
   "file_extension": ".py",
   "mimetype": "text/x-python",
   "name": "python",
   "nbconvert_exporter": "python",
   "pygments_lexer": "ipython3",
   "version": "3.8.5"
  },
  "orig_nbformat": 2,
  "kernelspec": {
   "name": "python385jvsc74a57bd0a6c8cccf23fc189a51b8b2ae4ca3b98de763e12cce4f9033fe8d82721c91cecc",
   "display_name": "Python 3.8.5 64-bit (conda)"
  }
 },
 "nbformat": 4,
 "nbformat_minor": 2,
 "cells": [
  {
   "cell_type": "code",
   "execution_count": 3,
   "metadata": {},
   "outputs": [],
   "source": [
    "import pandas as pd"
   ]
  },
  {
   "cell_type": "code",
   "execution_count": 71,
   "metadata": {},
   "outputs": [
    {
     "output_type": "execute_result",
     "data": {
      "text/plain": [
       "           Song ID  Song  Artist(s)  Artist IDs  Album ID  Release Date  \\\n",
       "Rank Year                                                                 \n",
       "1    1960        0     5          5           5         5             5   \n",
       "     1961        0     5          5           5         5             5   \n",
       "     1962        0     5          5           5         5             5   \n",
       "     1963        0     5          5           5         5             5   \n",
       "     1964        0     5          5           5         5             5   \n",
       "...            ...   ...        ...         ...       ...           ...   \n",
       "99   2016        0     5          5           5         5             5   \n",
       "     2017        0     3          3           3         3             3   \n",
       "     2018        0     5          5           5         5             5   \n",
       "     2020        0     4          4           4         4             4   \n",
       "Tie  1969        0     5          5           5         5             5   \n",
       "\n",
       "           Popularity  Query  ID  \n",
       "Rank Year                         \n",
       "1    1960           5      5   5  \n",
       "     1961           5      5   5  \n",
       "     1962           5      5   5  \n",
       "     1963           5      5   5  \n",
       "     1964           5      5   5  \n",
       "...               ...    ...  ..  \n",
       "99   2016           5      5   5  \n",
       "     2017           3      3   3  \n",
       "     2018           5      5   5  \n",
       "     2020           4      4   4  \n",
       "Tie  1969           5      5   5  \n",
       "\n",
       "[5931 rows x 9 columns]"
      ],
      "text/html": "<div>\n<style scoped>\n    .dataframe tbody tr th:only-of-type {\n        vertical-align: middle;\n    }\n\n    .dataframe tbody tr th {\n        vertical-align: top;\n    }\n\n    .dataframe thead th {\n        text-align: right;\n    }\n</style>\n<table border=\"1\" class=\"dataframe\">\n  <thead>\n    <tr style=\"text-align: right;\">\n      <th></th>\n      <th></th>\n      <th>Song ID</th>\n      <th>Song</th>\n      <th>Artist(s)</th>\n      <th>Artist IDs</th>\n      <th>Album ID</th>\n      <th>Release Date</th>\n      <th>Popularity</th>\n      <th>Query</th>\n      <th>ID</th>\n    </tr>\n    <tr>\n      <th>Rank</th>\n      <th>Year</th>\n      <th></th>\n      <th></th>\n      <th></th>\n      <th></th>\n      <th></th>\n      <th></th>\n      <th></th>\n      <th></th>\n      <th></th>\n    </tr>\n  </thead>\n  <tbody>\n    <tr>\n      <th rowspan=\"5\" valign=\"top\">1</th>\n      <th>1960</th>\n      <td>0</td>\n      <td>5</td>\n      <td>5</td>\n      <td>5</td>\n      <td>5</td>\n      <td>5</td>\n      <td>5</td>\n      <td>5</td>\n      <td>5</td>\n    </tr>\n    <tr>\n      <th>1961</th>\n      <td>0</td>\n      <td>5</td>\n      <td>5</td>\n      <td>5</td>\n      <td>5</td>\n      <td>5</td>\n      <td>5</td>\n      <td>5</td>\n      <td>5</td>\n    </tr>\n    <tr>\n      <th>1962</th>\n      <td>0</td>\n      <td>5</td>\n      <td>5</td>\n      <td>5</td>\n      <td>5</td>\n      <td>5</td>\n      <td>5</td>\n      <td>5</td>\n      <td>5</td>\n    </tr>\n    <tr>\n      <th>1963</th>\n      <td>0</td>\n      <td>5</td>\n      <td>5</td>\n      <td>5</td>\n      <td>5</td>\n      <td>5</td>\n      <td>5</td>\n      <td>5</td>\n      <td>5</td>\n    </tr>\n    <tr>\n      <th>1964</th>\n      <td>0</td>\n      <td>5</td>\n      <td>5</td>\n      <td>5</td>\n      <td>5</td>\n      <td>5</td>\n      <td>5</td>\n      <td>5</td>\n      <td>5</td>\n    </tr>\n    <tr>\n      <th>...</th>\n      <th>...</th>\n      <td>...</td>\n      <td>...</td>\n      <td>...</td>\n      <td>...</td>\n      <td>...</td>\n      <td>...</td>\n      <td>...</td>\n      <td>...</td>\n      <td>...</td>\n    </tr>\n    <tr>\n      <th rowspan=\"4\" valign=\"top\">99</th>\n      <th>2016</th>\n      <td>0</td>\n      <td>5</td>\n      <td>5</td>\n      <td>5</td>\n      <td>5</td>\n      <td>5</td>\n      <td>5</td>\n      <td>5</td>\n      <td>5</td>\n    </tr>\n    <tr>\n      <th>2017</th>\n      <td>0</td>\n      <td>3</td>\n      <td>3</td>\n      <td>3</td>\n      <td>3</td>\n      <td>3</td>\n      <td>3</td>\n      <td>3</td>\n      <td>3</td>\n    </tr>\n    <tr>\n      <th>2018</th>\n      <td>0</td>\n      <td>5</td>\n      <td>5</td>\n      <td>5</td>\n      <td>5</td>\n      <td>5</td>\n      <td>5</td>\n      <td>5</td>\n      <td>5</td>\n    </tr>\n    <tr>\n      <th>2020</th>\n      <td>0</td>\n      <td>4</td>\n      <td>4</td>\n      <td>4</td>\n      <td>4</td>\n      <td>4</td>\n      <td>4</td>\n      <td>4</td>\n      <td>4</td>\n    </tr>\n    <tr>\n      <th>Tie</th>\n      <th>1969</th>\n      <td>0</td>\n      <td>5</td>\n      <td>5</td>\n      <td>5</td>\n      <td>5</td>\n      <td>5</td>\n      <td>5</td>\n      <td>5</td>\n      <td>5</td>\n    </tr>\n  </tbody>\n</table>\n<p>5931 rows × 9 columns</p>\n</div>"
     },
     "metadata": {},
     "execution_count": 71
    }
   ],
   "source": [
    "results = pd.read_csv('../data/search-results/all.csv')\n",
    "results['Release Date'] = pd.to_datetime(results['Release Date'])\n",
    "results.groupby(['Rank','Year']).count()"
   ]
  },
  {
   "cell_type": "code",
   "execution_count": 70,
   "metadata": {
    "tags": []
   },
   "outputs": [
    {
     "output_type": "stream",
     "name": "stdout",
     "text": [
      "<class 'pandas.core.frame.DataFrame'>\nRangeIndex: 5931 entries, 0 to 5930\nData columns (total 11 columns):\n #   Column        Non-Null Count  Dtype         \n---  ------        --------------  -----         \n 0   Album ID      5931 non-null   object        \n 1   Artist IDs    5931 non-null   object        \n 2   Artist(s)     5931 non-null   object        \n 3   ID            5931 non-null   object        \n 4   Popularity    5931 non-null   float64       \n 5   Query         5931 non-null   object        \n 6   Rank          5931 non-null   object        \n 7   Release Date  5931 non-null   datetime64[ns]\n 8   Song          5931 non-null   object        \n 9   Song ID       0 non-null      float64       \n 10  Year          5931 non-null   float64       \ndtypes: datetime64[ns](1), float64(3), object(7)\nmemory usage: 509.8+ KB\n"
     ]
    }
   ],
   "source": [
    "selected = pd.DataFrame()\n",
    "for q, song in results.groupby(['Query','Year']):\n",
    "    oldest = song.iloc[0]\n",
    "    for i, result in song.iterrows():\n",
    "        if (result['Release Date']) < (oldest['Release Date']):\n",
    "            oldest = result\n",
    "    selected = selected.append(oldest, ignore_index=True)\n",
    "selected.info()"
   ]
  },
  {
   "cell_type": "code",
   "execution_count": 73,
   "metadata": {},
   "outputs": [],
   "source": [
    "selected.to_csv('../data/search-results/all_selected.csv', index=False)"
   ]
  },
  {
   "cell_type": "code",
   "execution_count": 54,
   "metadata": {},
   "outputs": [
    {
     "output_type": "execute_result",
     "data": {
      "text/plain": [
       "43"
      ]
     },
     "metadata": {},
     "execution_count": 54
    }
   ],
   "source": [
    "6101 - (127+5931)"
   ]
  },
  {
   "cell_type": "code",
   "execution_count": 72,
   "metadata": {},
   "outputs": [
    {
     "output_type": "execute_result",
     "data": {
      "text/plain": [
       "0        1.0\n",
       "1        3.0\n",
       "3       16.0\n",
       "7        1.0\n",
       "10       2.0\n",
       "        ... \n",
       "5920     1.0\n",
       "5921     2.0\n",
       "5928     1.0\n",
       "5929     1.0\n",
       "5930     1.0\n",
       "Length: 2671, dtype: float64"
      ]
     },
     "metadata": {},
     "execution_count": 72
    }
   ],
   "source": [
    "differences = ((selected['Year'] - selected['Release Date'].dt.year)) # given in days\n",
    "(differences[differences > 0])"
   ]
  }
 ]
}