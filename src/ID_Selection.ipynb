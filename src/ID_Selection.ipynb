{
 "metadata": {
  "language_info": {
   "codemirror_mode": {
    "name": "ipython",
    "version": 3
   },
   "file_extension": ".py",
   "mimetype": "text/x-python",
   "name": "python",
   "nbconvert_exporter": "python",
   "pygments_lexer": "ipython3",
   "version": "3.8.5"
  },
  "orig_nbformat": 2,
  "kernelspec": {
   "name": "python385jvsc74a57bd0a6c8cccf23fc189a51b8b2ae4ca3b98de763e12cce4f9033fe8d82721c91cecc",
   "display_name": "Python 3.8.5 64-bit (conda)"
  }
 },
 "nbformat": 4,
 "nbformat_minor": 2,
 "cells": [
  {
   "cell_type": "code",
   "execution_count": 3,
   "metadata": {},
   "outputs": [],
   "source": [
    "import pandas as pd"
   ]
  },
  {
   "cell_type": "code",
   "execution_count": 47,
   "metadata": {},
   "outputs": [
    {
     "output_type": "stream",
     "name": "stdout",
     "text": [
      "<class 'pandas.core.frame.DataFrame'>\nRangeIndex: 27265 entries, 0 to 27264\nData columns (total 11 columns):\n #   Column        Non-Null Count  Dtype         \n---  ------        --------------  -----         \n 0   Year          27265 non-null  datetime64[ns]\n 1   Rank          27265 non-null  object        \n 2   Song ID       0 non-null      float64       \n 3   Song          27265 non-null  object        \n 4   Artist(s)     27265 non-null  object        \n 5   Artist IDs    27265 non-null  object        \n 6   Album ID      27265 non-null  object        \n 7   Release Date  27265 non-null  datetime64[ns]\n 8   Popularity    27265 non-null  int64         \n 9   Query         27265 non-null  object        \n 10  ID            27265 non-null  object        \ndtypes: datetime64[ns](2), float64(1), int64(1), object(7)\nmemory usage: 2.3+ MB\n"
     ]
    }
   ],
   "source": [
    "results = pd.read_csv('../data/search-results/all.csv')\n",
    "results['Release Date'] = pd.to_datetime(results['Release Date'])\n",
    "results['Year'] = pd.to_datetime(results['Year'])\n",
    "results.info()"
   ]
  },
  {
   "cell_type": "code",
   "execution_count": 50,
   "metadata": {
    "tags": []
   },
   "outputs": [
    {
     "output_type": "stream",
     "name": "stdout",
     "text": [
      "<class 'pandas.core.frame.DataFrame'>\nRangeIndex: 5931 entries, 0 to 5930\nData columns (total 11 columns):\n #   Column        Non-Null Count  Dtype         \n---  ------        --------------  -----         \n 0   Album ID      5931 non-null   object        \n 1   Artist IDs    5931 non-null   object        \n 2   Artist(s)     5931 non-null   object        \n 3   ID            5931 non-null   object        \n 4   Popularity    5931 non-null   float64       \n 5   Query         5931 non-null   object        \n 6   Rank          5931 non-null   object        \n 7   Release Date  5931 non-null   datetime64[ns]\n 8   Song          5931 non-null   object        \n 9   Song ID       0 non-null      float64       \n 10  Year          5931 non-null   datetime64[ns]\ndtypes: datetime64[ns](2), float64(2), object(7)\nmemory usage: 509.8+ KB\n"
     ]
    }
   ],
   "source": [
    "selected = pd.DataFrame()\n",
    "for q, song in results.groupby(['Query','Year']):\n",
    "    oldest = song.iloc[0]\n",
    "    for i, result in song.iterrows():\n",
    "        if (result['Release Date']) < (oldest['Release Date']):\n",
    "            oldest = result\n",
    "    selected = selected.append(oldest, ignore_index=True)\n",
    "selected.info()"
   ]
  },
  {
   "cell_type": "code",
   "execution_count": 52,
   "metadata": {},
   "outputs": [],
   "source": [
    "selected.to_csv('../data/search-results/all_selected.csv', index=False)"
   ]
  },
  {
   "cell_type": "code",
   "execution_count": 51,
   "metadata": {},
   "outputs": [
    {
     "output_type": "execute_result",
     "data": {
      "text/plain": [
       "13      5\n",
       "19      3\n",
       "26      7\n",
       "30      2\n",
       "31      2\n",
       "       ..\n",
       "5906    2\n",
       "5909    8\n",
       "5922    3\n",
       "5926    2\n",
       "5929    5\n",
       "Length: 710, dtype: int64"
      ]
     },
     "metadata": {},
     "execution_count": 51
    }
   ],
   "source": [
    "differences = ((selected['Year'].dt.year - selected['Release Date'].dt.year)) # given in days\n",
    "(differences[differences > 0])"
   ]
  }
 ]
}