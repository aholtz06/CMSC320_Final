{
 "metadata": {
  "language_info": {
   "codemirror_mode": {
    "name": "ipython",
    "version": 3
   },
   "file_extension": ".py",
   "mimetype": "text/x-python",
   "name": "python",
   "nbconvert_exporter": "python",
   "pygments_lexer": "ipython3",
   "version": "3.8.10"
  },
  "orig_nbformat": 2,
  "kernelspec": {
   "name": "python3810jvsc74a57bd058d677c2134a45f980413f3ccd705e40b5616fd88cc67b1942ae2ddeb7bae88b",
   "display_name": "Python 3.8.10 64-bit (windows store)"
  },
  "metadata": {
   "interpreter": {
    "hash": "58d677c2134a45f980413f3ccd705e40b5616fd88cc67b1942ae2ddeb7bae88b"
   }
  }
 },
 "nbformat": 4,
 "nbformat_minor": 2,
 "cells": [
  {
   "cell_type": "code",
   "execution_count": 1,
   "metadata": {},
   "outputs": [],
   "source": [
    "import requests\n",
    "from bs4 import BeautifulSoup\n",
    "import pandas as pd\n",
    "import numpy as np\n",
    "import lxml\n",
    "import re\n",
    "from datetime import datetime, timedelta"
   ]
  },
  {
   "cell_type": "code",
   "execution_count": 2,
   "metadata": {},
   "outputs": [],
   "source": [
    "top100 = pd.DataFrame()"
   ]
  },
  {
   "cell_type": "code",
   "execution_count": 3,
   "metadata": {},
   "outputs": [],
   "source": [
    "url = 'https://en.wikipedia.org/wiki/Billboard_Year-End_Hot_100_singles_of_'\n",
    "for year in range(1960, 2021):\n",
    "    r = requests.get(url + str(year))\n",
    "    html = r.content\n",
    "    root = BeautifulSoup(r.content, \"html.parser\") \n",
    "    r = root.find(\"table\", \"wikitable\")\n",
    "    pretty = r.prettify()\n",
    "    df = pd.read_html(pretty)[0]\n",
    "    df.columns = ['Rank', 'Song', 'Artist(s)']\n",
    "    df = df.assign(Year = year)\n",
    "    top100 = top100.append(df)"
   ]
  },
  {
   "cell_type": "code",
   "execution_count": 13,
   "metadata": {},
   "outputs": [
    {
     "output_type": "stream",
     "name": "stdout",
     "text": [
      "<class 'pandas.core.frame.DataFrame'>\nInt64Index: 6101 entries, 0 to 99\nData columns (total 4 columns):\n #   Column     Non-Null Count  Dtype \n---  ------     --------------  ----- \n 0   Rank       6101 non-null   object\n 1   Song       6101 non-null   object\n 2   Artist(s)  6101 non-null   object\n 3   Year       6101 non-null   int64 \ndtypes: int64(1), object(3)\nmemory usage: 367.4+ KB\n"
     ]
    }
   ],
   "source": [
    "top100.info()"
   ]
  },
  {
   "cell_type": "code",
   "execution_count": 18,
   "metadata": {},
   "outputs": [
    {
     "output_type": "stream",
     "name": "stdout",
     "text": [
      "[1 2 3 4 5 6 7 8 9 10 11 12 13 14 15 16 17 18 19 20 21 22 23 24 25 26 27\n 28 29 30 31 32 33 34 35 36 37 38 39 40 41 42 43 44 45 46 47 48 49 50 51\n 52 53 54 55 56 57 58 59 60 61 62 63 64 65 66 67 68 69 70 71 72 73 74 75\n 76 77 78 79 80 81 82 83 84 85 86 87 88 89 90 91 92 93 94 95 96 97 98 99\n 100 '1' '2' '3' '4' '5' '6' '7' '8' '9' '10' '11' '12' '13' '14' '15'\n '16' '17' '18' '19' '20' '21' '22' '23' '24' '25' '26' '27' '28' '29'\n '30' '31' '32' '33' '34' '35' '36' '37' '38' '39' '40' '41' '42' '43'\n '44' '45' '46' '47' '48' '49' '50' '51' '52' '53' '54' '55' '56' '57'\n '58' '59' '60' '61' '62' '63' '64' '65' '66' '67' '68' '69' '70' '71'\n '72' '73' '74' '75' '76' '77' '78' '79' '80' '81' '82' '83' '84' '85'\n '86' '87' '88' '89' '90' '91' '92' '93' '94' '95' '96' '97' '98' '99'\n '100']\nEmpty DataFrame\nColumns: [Rank, Song, Artist(s), Year]\nIndex: []\n[1 2 3 4 5 6 7 8 9 10 11 12 13 14 15 16 17 18 19 20 21 22 23 24 25 26 27\n 28 29 30 31 32 33 34 35 36 37 38 39 40 41 42 43 44 45 46 47 48 49 50 51\n 52 53 54 55 56 57 58 59 60 61 62 63 64 65 66 67 68 69 70 71 72 73 74 75\n 76 77 78 79 80 81 82 83 84 85 86 87 88 89 90 91 92 93 94 95 96 97 98 99\n 100 '1' '2' '3' '4' '5' '6' '7' '8' '9' '10' '11' '12' '13' '14' '15'\n '16' '17' '18' '19' '20' '21' '22' '23' '24' '25' '26' '27' '28' '29'\n '30' '31' '32' '33' '34' '35' '36' '37' '38' '39' '40' '41' '42' '43'\n '44' '45' '46' '47' '48' '49' '50' '51' '52' '53' '54' '55' '56' '57'\n '58' '59' '60' '61' '62' '63' '64' '65' '66' '67' '68' '69' '70' '71'\n '72' '73' '74' '75' '76' '77' '78' '79' '80' '81' '82' '83' '84' '85'\n '86' '87' '88' '89' '90' '91' '92' '93' '94' '95' '96' '97' '98' '99'\n '100']\n"
     ]
    }
   ],
   "source": [
    "print(top100['Rank'].unique())\r\n",
    "print(top100[top100['Rank'] == 'Tie'])\r\n",
    "top100.loc[top100['Rank'] == 'Tie', 'Rank'] = 100"
   ]
  },
  {
   "cell_type": "code",
   "execution_count": 25,
   "metadata": {},
   "outputs": [
    {
     "output_type": "stream",
     "name": "stdout",
     "text": [
      "<class 'pandas.core.frame.DataFrame'>\nInt64Index: 6101 entries, 0 to 99\nData columns (total 4 columns):\n #   Column     Non-Null Count  Dtype \n---  ------     --------------  ----- \n 0   Rank       6101 non-null   int64 \n 1   Song       6101 non-null   object\n 2   Artist(s)  6101 non-null   object\n 3   Year       6101 non-null   int64 \ndtypes: int64(2), object(2)\nmemory usage: 367.4+ KB\n[  1   2   3   4   5   6   7   8   9  10  11  12  13  14  15  16  17  18\n  19  20  21  22  23  24  25  26  27  28  29  30  31  32  33  34  35  36\n  37  38  39  40  41  42  43  44  45  46  47  48  49  50  51  52  53  54\n  55  56  57  58  59  60  61  62  63  64  65  66  67  68  69  70  71  72\n  73  74  75  76  77  78  79  80  81  82  83  84  85  86  87  88  89  90\n  91  92  93  94  95  96  97  98  99 100]\n"
     ]
    }
   ],
   "source": [
    "top100 = top100.astype({'Rank': 'int64'})\n",
    "top100.info()"
   ]
  },
  {
   "cell_type": "code",
   "execution_count": 26,
   "metadata": {},
   "outputs": [],
   "source": [
    "top100.to_csv('../data/RawYearlyTop100.csv')"
   ]
  }
 ]
}