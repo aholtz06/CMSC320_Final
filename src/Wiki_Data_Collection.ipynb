{
 "metadata": {
  "language_info": {
   "codemirror_mode": {
    "name": "ipython",
    "version": 3
   },
   "file_extension": ".py",
   "mimetype": "text/x-python",
   "name": "python",
   "nbconvert_exporter": "python",
   "pygments_lexer": "ipython3",
   "version": "3.8.10"
  },
  "orig_nbformat": 2,
  "kernelspec": {
   "name": "python3810jvsc74a57bd058d677c2134a45f980413f3ccd705e40b5616fd88cc67b1942ae2ddeb7bae88b",
   "display_name": "Python 3.8.10 64-bit (windows store)"
  },
  "metadata": {
   "interpreter": {
    "hash": "58d677c2134a45f980413f3ccd705e40b5616fd88cc67b1942ae2ddeb7bae88b"
   }
  }
 },
 "nbformat": 4,
 "nbformat_minor": 2,
 "cells": [
  {
   "cell_type": "code",
   "execution_count": null,
   "metadata": {},
   "outputs": [],
   "source": [
    "import requests\n",
    "from bs4 import BeautifulSoup\n",
    "import pandas as pd\n",
    "import numpy as np\n",
    "import lxml\n",
    "import re\n",
    "from datetime import datetime, timedelta"
   ]
  },
  {
   "cell_type": "code",
   "execution_count": null,
   "metadata": {},
   "outputs": [],
   "source": [
    "top100 = pd.DataFrame()"
   ]
  },
  {
   "cell_type": "code",
   "execution_count": null,
   "metadata": {},
   "outputs": [],
   "source": [
    "url = 'https://en.wikipedia.org/wiki/Billboard_Year-End_Hot_100_singles_of_'\n",
    "for year in range(1960, 2021):\n",
    "    r = requests.get(url + str(year))\n",
    "    html = r.content\n",
    "    root = BeautifulSoup(r.content, \"html.parser\") \n",
    "    r = root.find(\"table\", \"wikitable\")\n",
    "    pretty = r.prettify()\n",
    "    df = pd.read_html(pretty)[0]\n",
    "    df.columns = ['Rank', 'Song', 'Artist(s)']\n",
    "    df = df.assign(Year = year)\n",
    "    top100 = top100.append(df)"
   ]
  },
  {
   "cell_type": "code",
   "execution_count": null,
   "metadata": {},
   "outputs": [],
   "source": [
    "top100.info()"
   ]
  },
  {
   "cell_type": "code",
   "execution_count": null,
   "metadata": {},
   "outputs": [],
   "source": [
    "print(top100['Rank'].unique())\n",
    "print(top100[top100['Rank'] == 'Tie'])\n",
    "top100.loc[top100['Rank'] == 'Tie', 'Rank'] = 100"
   ]
  },
  {
   "cell_type": "code",
   "execution_count": null,
   "metadata": {},
   "outputs": [],
   "source": [
    "top100 = top100.astype({'Rank': 'int64'})\n",
    "top100.info()"
   ]
  },
  {
   "cell_type": "code",
   "execution_count": null,
   "metadata": {},
   "outputs": [],
   "source": [
    "top100[\"Song\"] = top100[\"Song\"].str.strip('\"').str.strip()"
   ]
  },
  {
   "cell_type": "code",
   "execution_count": null,
   "metadata": {},
   "outputs": [],
   "source": [
    "top100.to_csv('../data/RawYearlyTop100.csv', index=False)"
   ]
  }
 ]
}