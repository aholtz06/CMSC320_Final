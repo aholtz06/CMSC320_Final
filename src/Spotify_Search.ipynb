{
 "metadata": {
  "language_info": {
   "codemirror_mode": {
    "name": "ipython",
    "version": 3
   },
   "file_extension": ".py",
   "mimetype": "text/x-python",
   "name": "python",
   "nbconvert_exporter": "python",
   "pygments_lexer": "ipython3",
   "version": "3.8.10"
  },
  "orig_nbformat": 2,
  "kernelspec": {
   "name": "python3810jvsc74a57bd031dbb8e072f8bca76913a6aad0b16dca6478026130cae71aa19b1cdaa8f14d7f",
   "display_name": "Python 3.8.10 64-bit ('PythonSoftwareFoundation.Python.3.8_qbz5n2kfra8p0')"
  },
  "metadata": {
   "interpreter": {
    "hash": "31dbb8e072f8bca76913a6aad0b16dca6478026130cae71aa19b1cdaa8f14d7f"
   }
  }
 },
 "nbformat": 4,
 "nbformat_minor": 2,
 "cells": [
  {
   "cell_type": "code",
   "execution_count": 1,
   "metadata": {},
   "outputs": [],
   "source": [
    "import pandas as pd\n",
    "import spotipy\n",
    "from spotipy.oauth2 import SpotifyClientCredentials\n",
    "import json"
   ]
  },
  {
   "cell_type": "code",
   "execution_count": 2,
   "metadata": {},
   "outputs": [
    {
     "output_type": "execute_result",
     "data": {
      "text/plain": [
       "  Rank                       Song            Artist(s)  Year\n",
       "0    1  Theme from A Summer Place          Percy Faith  1960\n",
       "1    2           He'll Have to Go           Jim Reeves  1960\n",
       "2    3              Cathy's Clown  The Everly Brothers  1960\n",
       "3    4               Running Bear       Johnny Preston  1960\n",
       "4    5                 Teen Angel         Mark Dinning  1960"
      ],
      "text/html": "<div>\n<style scoped>\n    .dataframe tbody tr th:only-of-type {\n        vertical-align: middle;\n    }\n\n    .dataframe tbody tr th {\n        vertical-align: top;\n    }\n\n    .dataframe thead th {\n        text-align: right;\n    }\n</style>\n<table border=\"1\" class=\"dataframe\">\n  <thead>\n    <tr style=\"text-align: right;\">\n      <th></th>\n      <th>Rank</th>\n      <th>Song</th>\n      <th>Artist(s)</th>\n      <th>Year</th>\n    </tr>\n  </thead>\n  <tbody>\n    <tr>\n      <th>0</th>\n      <td>1</td>\n      <td>Theme from A Summer Place</td>\n      <td>Percy Faith</td>\n      <td>1960</td>\n    </tr>\n    <tr>\n      <th>1</th>\n      <td>2</td>\n      <td>He'll Have to Go</td>\n      <td>Jim Reeves</td>\n      <td>1960</td>\n    </tr>\n    <tr>\n      <th>2</th>\n      <td>3</td>\n      <td>Cathy's Clown</td>\n      <td>The Everly Brothers</td>\n      <td>1960</td>\n    </tr>\n    <tr>\n      <th>3</th>\n      <td>4</td>\n      <td>Running Bear</td>\n      <td>Johnny Preston</td>\n      <td>1960</td>\n    </tr>\n    <tr>\n      <th>4</th>\n      <td>5</td>\n      <td>Teen Angel</td>\n      <td>Mark Dinning</td>\n      <td>1960</td>\n    </tr>\n  </tbody>\n</table>\n</div>"
     },
     "metadata": {},
     "execution_count": 2
    }
   ],
   "source": [
    "top100 = pd.read_csv('../data/RawYearlyTop100.csv')\n",
    "top100.head()"
   ]
  },
  {
   "cell_type": "code",
   "execution_count": 3,
   "metadata": {},
   "outputs": [
    {
     "output_type": "execute_result",
     "data": {
      "text/plain": [
       "  Rank                       Song            Artist(s)  Year  \\\n",
       "0    1  Theme from A Summer Place          Percy Faith  1960   \n",
       "1    2           He ll Have to Go           Jim Reeves  1960   \n",
       "2    3              Cathy s Clown  The Everly Brothers  1960   \n",
       "3    4               Running Bear       Johnny Preston  1960   \n",
       "4    5                 Teen Angel         Mark Dinning  1960   \n",
       "\n",
       "                                               Query  \n",
       "0  track:Theme from A Summer Place artist:Percy F...  \n",
       "1           track:He ll Have to Go artist:Jim Reeves  \n",
       "2     track:Cathy s Clown artist:The Everly Brothers  \n",
       "3           track:Running Bear artist:Johnny Preston  \n",
       "4               track:Teen Angel artist:Mark Dinning  "
      ],
      "text/html": "<div>\n<style scoped>\n    .dataframe tbody tr th:only-of-type {\n        vertical-align: middle;\n    }\n\n    .dataframe tbody tr th {\n        vertical-align: top;\n    }\n\n    .dataframe thead th {\n        text-align: right;\n    }\n</style>\n<table border=\"1\" class=\"dataframe\">\n  <thead>\n    <tr style=\"text-align: right;\">\n      <th></th>\n      <th>Rank</th>\n      <th>Song</th>\n      <th>Artist(s)</th>\n      <th>Year</th>\n      <th>Query</th>\n    </tr>\n  </thead>\n  <tbody>\n    <tr>\n      <th>0</th>\n      <td>1</td>\n      <td>Theme from A Summer Place</td>\n      <td>Percy Faith</td>\n      <td>1960</td>\n      <td>track:Theme from A Summer Place artist:Percy F...</td>\n    </tr>\n    <tr>\n      <th>1</th>\n      <td>2</td>\n      <td>He ll Have to Go</td>\n      <td>Jim Reeves</td>\n      <td>1960</td>\n      <td>track:He ll Have to Go artist:Jim Reeves</td>\n    </tr>\n    <tr>\n      <th>2</th>\n      <td>3</td>\n      <td>Cathy s Clown</td>\n      <td>The Everly Brothers</td>\n      <td>1960</td>\n      <td>track:Cathy s Clown artist:The Everly Brothers</td>\n    </tr>\n    <tr>\n      <th>3</th>\n      <td>4</td>\n      <td>Running Bear</td>\n      <td>Johnny Preston</td>\n      <td>1960</td>\n      <td>track:Running Bear artist:Johnny Preston</td>\n    </tr>\n    <tr>\n      <th>4</th>\n      <td>5</td>\n      <td>Teen Angel</td>\n      <td>Mark Dinning</td>\n      <td>1960</td>\n      <td>track:Teen Angel artist:Mark Dinning</td>\n    </tr>\n  </tbody>\n</table>\n</div>"
     },
     "metadata": {},
     "execution_count": 3
    }
   ],
   "source": [
    "top100[\"Artist(s)\"] = top100[\"Artist(s)\"].str.split('featuring', expand=True)[0]\n",
    "top100[\"Song\"] = top100[\"Song\"].str.replace(\"'\", \" \")\n",
    "top100[\"Query\"] = \"track:\" + top100[\"Song\"] + \" artist:\" + top100[\"Artist(s)\"]\n",
    "top100.head()"
   ]
  },
  {
   "cell_type": "code",
   "execution_count": 4,
   "metadata": {},
   "outputs": [],
   "source": [
    "with open('../config.json') as file:\n",
    "    app_data = json.load(file)\n",
    "\n",
    "sp = spotipy.Spotify(auth_manager=SpotifyClientCredentials( \\\n",
    "                     client_id=app_data['client_id'], \\\n",
    "                     client_secret=app_data['client_secret']))"
   ]
  },
  {
   "cell_type": "code",
   "execution_count": 5,
   "metadata": {},
   "outputs": [],
   "source": [
    "no_results = pd.DataFrame()"
   ]
  },
  {
   "cell_type": "code",
   "execution_count": 6,
   "metadata": {},
   "outputs": [],
   "source": [
    "year = 1961\n",
    "this_year = top100[top100['Year'] == year]\n",
    "new_cols = list(this_year.columns) + ['ID', 'Popularity', 'Release Date']\n",
    "results = pd.DataFrame(columns=new_cols)"
   ]
  },
  {
   "cell_type": "code",
   "execution_count": 7,
   "metadata": {},
   "outputs": [],
   "source": [
    "for i, row in this_year.iterrows():\n",
    "    search_res = sp.search(q=row['Query'], limit=5)\n",
    "    tracks = search_res['tracks']['items']\n",
    "    if len(tracks) == 0:\n",
    "        no_results = no_results.append(row, ignore_index=True)\n",
    "    for idx, track in enumerate(tracks):\n",
    "        row['ID'] = track['id']\n",
    "        row['Popularity'] = track['popularity']\n",
    "        row['Release Date'] = track['album']['release_date']\n",
    "        results = results.append(row, ignore_index=True)"
   ]
  },
  {
   "source": [
    "results.tail()"
   ],
   "cell_type": "code",
   "metadata": {},
   "execution_count": 10,
   "outputs": [
    {
     "output_type": "execute_result",
     "data": {
      "text/plain": [
       "    Rank         Song     Artist(s)  Year  \\\n",
       "432  100  Please Stay  The Drifters  1961   \n",
       "433  100  Please Stay  The Drifters  1961   \n",
       "434  100  Please Stay  The Drifters  1961   \n",
       "435  100  Please Stay  The Drifters  1961   \n",
       "436  100  Please Stay  The Drifters  1961   \n",
       "\n",
       "                                     Query                      ID Popularity  \\\n",
       "432  track:Please Stay artist:The Drifters  6Y3ZRbwgdJzNFkd8knmtha         28   \n",
       "433  track:Please Stay artist:The Drifters  1vbmdeXAV4fXR12I5FR5tD         13   \n",
       "434  track:Please Stay artist:The Drifters  32v16B1DR9wopKenCpM7a0         12   \n",
       "435  track:Please Stay artist:The Drifters  0mOuJZfcNRiSbPGMbC9mUp         11   \n",
       "436  track:Please Stay artist:The Drifters  2rMHEYriZhtbJSYJQsFa5s          2   \n",
       "\n",
       "    Release Date  \n",
       "432   2005-02-08  \n",
       "433   1988-11-15  \n",
       "434   2007-10-30  \n",
       "435   2002-07-01  \n",
       "436   2017-03-10  "
      ],
      "text/html": "<div>\n<style scoped>\n    .dataframe tbody tr th:only-of-type {\n        vertical-align: middle;\n    }\n\n    .dataframe tbody tr th {\n        vertical-align: top;\n    }\n\n    .dataframe thead th {\n        text-align: right;\n    }\n</style>\n<table border=\"1\" class=\"dataframe\">\n  <thead>\n    <tr style=\"text-align: right;\">\n      <th></th>\n      <th>Rank</th>\n      <th>Song</th>\n      <th>Artist(s)</th>\n      <th>Year</th>\n      <th>Query</th>\n      <th>ID</th>\n      <th>Popularity</th>\n      <th>Release Date</th>\n    </tr>\n  </thead>\n  <tbody>\n    <tr>\n      <th>432</th>\n      <td>100</td>\n      <td>Please Stay</td>\n      <td>The Drifters</td>\n      <td>1961</td>\n      <td>track:Please Stay artist:The Drifters</td>\n      <td>6Y3ZRbwgdJzNFkd8knmtha</td>\n      <td>28</td>\n      <td>2005-02-08</td>\n    </tr>\n    <tr>\n      <th>433</th>\n      <td>100</td>\n      <td>Please Stay</td>\n      <td>The Drifters</td>\n      <td>1961</td>\n      <td>track:Please Stay artist:The Drifters</td>\n      <td>1vbmdeXAV4fXR12I5FR5tD</td>\n      <td>13</td>\n      <td>1988-11-15</td>\n    </tr>\n    <tr>\n      <th>434</th>\n      <td>100</td>\n      <td>Please Stay</td>\n      <td>The Drifters</td>\n      <td>1961</td>\n      <td>track:Please Stay artist:The Drifters</td>\n      <td>32v16B1DR9wopKenCpM7a0</td>\n      <td>12</td>\n      <td>2007-10-30</td>\n    </tr>\n    <tr>\n      <th>435</th>\n      <td>100</td>\n      <td>Please Stay</td>\n      <td>The Drifters</td>\n      <td>1961</td>\n      <td>track:Please Stay artist:The Drifters</td>\n      <td>0mOuJZfcNRiSbPGMbC9mUp</td>\n      <td>11</td>\n      <td>2002-07-01</td>\n    </tr>\n    <tr>\n      <th>436</th>\n      <td>100</td>\n      <td>Please Stay</td>\n      <td>The Drifters</td>\n      <td>1961</td>\n      <td>track:Please Stay artist:The Drifters</td>\n      <td>2rMHEYriZhtbJSYJQsFa5s</td>\n      <td>2</td>\n      <td>2017-03-10</td>\n    </tr>\n  </tbody>\n</table>\n</div>"
     },
     "metadata": {},
     "execution_count": 10
    }
   ]
  },
  {
   "cell_type": "code",
   "execution_count": 11,
   "metadata": {},
   "outputs": [],
   "source": [
    "results.to_csv('../data/search-results/' + str(year) + '.csv', index=False)\n",
    "no_results.to_csv('../data/search-results/' + str(year) + '_missing.csv', index=False)"
   ]
  }
 ]
}