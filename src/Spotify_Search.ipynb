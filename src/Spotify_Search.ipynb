{
 "metadata": {
  "language_info": {
   "codemirror_mode": {
    "name": "ipython",
    "version": 3
   },
   "file_extension": ".py",
   "mimetype": "text/x-python",
   "name": "python",
   "nbconvert_exporter": "python",
   "pygments_lexer": "ipython3",
   "version": "3.8.10"
  },
  "orig_nbformat": 2,
  "kernelspec": {
   "name": "python3810jvsc74a57bd031dbb8e072f8bca76913a6aad0b16dca6478026130cae71aa19b1cdaa8f14d7f",
   "display_name": "Python 3.8.10 64-bit ('PythonSoftwareFoundation.Python.3.8_qbz5n2kfra8p0')"
  },
  "metadata": {
   "interpreter": {
    "hash": "31dbb8e072f8bca76913a6aad0b16dca6478026130cae71aa19b1cdaa8f14d7f"
   }
  }
 },
 "nbformat": 4,
 "nbformat_minor": 2,
 "cells": [
  {
   "cell_type": "code",
   "execution_count": null,
   "metadata": {},
   "outputs": [],
   "source": [
    "import pandas as pd\n",
    "import spotipy\n",
    "from spotipy.oauth2 import SpotifyClientCredentials\n",
    "import json"
   ]
  },
  {
   "cell_type": "code",
   "execution_count": null,
   "metadata": {},
   "outputs": [],
   "source": [
    "top100 = pd.read_csv('../data/RawYearlyTop100.csv')\n",
    "top100.head()"
   ]
  },
  {
   "cell_type": "code",
   "execution_count": null,
   "metadata": {},
   "outputs": [],
   "source": [
    "top100[\"Artist(s)\"] = top100[\"Artist(s)\"].str.split('featuring', expand=True)[0]\n",
    "top100[\"Artist(s)\"] = top100[\"Artist(s)\"].str.split('and', expand=True)[0]\n",
    "top100[\"Artist(s)\"] = top100[\"Artist(s)\"].str.split('&', expand=True)[0]\n",
    "top100[\"Artist(s)\"] = top100[\"Artist(s)\"].str.split(',', expand=True)[0]\n",
    "\n",
    "top100[\"Song\"] = top100[\"Song\"].str.split(\"/\", expand=True)[0]\n",
    "top100[\"Song\"] = top100[\"Song\"].str.replace(\"'\", \" \")"
   ]
  },
  {
   "cell_type": "code",
   "execution_count": null,
   "metadata": {},
   "outputs": [],
   "source": [
    "top100[\"Query\"] = \"track:\" + top100[\"Song\"] + \" artist:\" + top100[\"Artist(s)\"]\n",
    "top100.head()"
   ]
  },
  {
   "cell_type": "code",
   "execution_count": null,
   "metadata": {},
   "outputs": [],
   "source": [
    "top100.columns\n",
    "test_df = pd.DataFrame(columns=[\"Year\", \"Rank\", 'Song', 'Artist(s)', 'Query'])\n",
    "for i, r in top100.head().iterrows():\n",
    "    test_df = test_df.append(r)\n",
    "test_df"
   ]
  },
  {
   "cell_type": "code",
   "execution_count": null,
   "metadata": {},
   "outputs": [],
   "source": [
    "with open('../config.json') as file:\n",
    "    app_data = json.load(file)\n",
    "\n",
    "sp = spotipy.Spotify(auth_manager=SpotifyClientCredentials( \\\n",
    "                     client_id=app_data['client_id'], \\\n",
    "                     client_secret=app_data['client_secret']))"
   ]
  },
  {
   "cell_type": "code",
   "execution_count": null,
   "metadata": {},
   "outputs": [],
   "source": [
    "def add_data_to_row(row, track):\n",
    "    row['ID'] = track['id']\n",
    "    row['Popularity'] = track['popularity']\n",
    "    row['Release Date'] = track['album']['release_date']\n",
    "    artists = []\n",
    "    for i, artist in enumerate(track['artists']):\n",
    "        artists.append(artist['id'])\n",
    "    row['Artist IDs'] = artists\n",
    "    row['Album ID'] = track['album']['id']\n",
    "    return row"
   ]
  },
  {
   "cell_type": "code",
   "execution_count": null,
   "metadata": {},
   "outputs": [],
   "source": [
    "count_missing = 0\n",
    "new_columns = [\"Year\", \"Rank\", \"Song ID\", \"Song\", \"Artist(s)\", \"Artist IDs\", \"Album ID\", \"Release Date\", \"Popularity\", \"Query\"]\n",
    "results = pd.DataFrame(columns=new_columns)\n",
    "no_results = pd.DataFrame(columns = [\"Year\", \"Rank\", \"Song\", \"Artist(s)\", \"Query\"])\n",
    "\n",
    "for i, row in top100.iterrows():\n",
    "    search_res = sp.search(q=row['Query'], limit=5)\n",
    "    tracks = search_res['tracks']['items']\n",
    "    if len(tracks) == 0:\n",
    "        count_missing += 1\n",
    "        new_query = row[\"Artist(s)\"] + row[\"Song\"]\n",
    "        search2_res = sp.search(q=new_query, limit=5)\n",
    "        tracks2 = search2_res['tracks']['items']\n",
    "        if len(tracks2) == 0:\n",
    "            no_results = no_results.append(row, ignore_index=True)\n",
    "        else:\n",
    "            for idx, track in enumerate(tracks):\n",
    "                row = add_data_to_row(row, track)\n",
    "                results = results.append(row, ignore_index=True)\n",
    "    else:\n",
    "        for idx, track in enumerate(tracks):\n",
    "            row = add_data_to_row(row, track)\n",
    "            results = results.append(row, ignore_index=True)\n",
    "\n",
    "results.to_csv('../data/search-results/all.csv', index=False)\n",
    "no_results.to_csv('../data/search-results/all_missing.csv', index=False)"
   ]
  }
 ]
}