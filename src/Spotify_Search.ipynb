{
 "metadata": {
  "language_info": {
   "codemirror_mode": {
    "name": "ipython",
    "version": 3
   },
   "file_extension": ".py",
   "mimetype": "text/x-python",
   "name": "python",
   "nbconvert_exporter": "python",
   "pygments_lexer": "ipython3",
   "version": "3.8.10"
  },
  "orig_nbformat": 2,
  "kernelspec": {
   "name": "python3810jvsc74a57bd031dbb8e072f8bca76913a6aad0b16dca6478026130cae71aa19b1cdaa8f14d7f",
   "display_name": "Python 3.8.10 64-bit ('PythonSoftwareFoundation.Python.3.8_qbz5n2kfra8p0')"
  },
  "metadata": {
   "interpreter": {
    "hash": "31dbb8e072f8bca76913a6aad0b16dca6478026130cae71aa19b1cdaa8f14d7f"
   }
  }
 },
 "nbformat": 4,
 "nbformat_minor": 2,
 "cells": [
  {
   "cell_type": "code",
   "execution_count": 1,
   "metadata": {},
   "outputs": [],
   "source": [
    "import pandas as pd\n",
    "import spotipy\n",
    "from spotipy.oauth2 import SpotifyClientCredentials\n",
    "import json"
   ]
  },
  {
   "cell_type": "code",
   "execution_count": 2,
   "metadata": {},
   "outputs": [
    {
     "output_type": "execute_result",
     "data": {
      "text/plain": [
       "  Rank                       Song            Artist(s)  Year\n",
       "0    1  Theme from A Summer Place          Percy Faith  1960\n",
       "1    2           He'll Have to Go           Jim Reeves  1960\n",
       "2    3              Cathy's Clown  The Everly Brothers  1960\n",
       "3    4               Running Bear       Johnny Preston  1960\n",
       "4    5                 Teen Angel         Mark Dinning  1960"
      ],
      "text/html": "<div>\n<style scoped>\n    .dataframe tbody tr th:only-of-type {\n        vertical-align: middle;\n    }\n\n    .dataframe tbody tr th {\n        vertical-align: top;\n    }\n\n    .dataframe thead th {\n        text-align: right;\n    }\n</style>\n<table border=\"1\" class=\"dataframe\">\n  <thead>\n    <tr style=\"text-align: right;\">\n      <th></th>\n      <th>Rank</th>\n      <th>Song</th>\n      <th>Artist(s)</th>\n      <th>Year</th>\n    </tr>\n  </thead>\n  <tbody>\n    <tr>\n      <th>0</th>\n      <td>1</td>\n      <td>Theme from A Summer Place</td>\n      <td>Percy Faith</td>\n      <td>1960</td>\n    </tr>\n    <tr>\n      <th>1</th>\n      <td>2</td>\n      <td>He'll Have to Go</td>\n      <td>Jim Reeves</td>\n      <td>1960</td>\n    </tr>\n    <tr>\n      <th>2</th>\n      <td>3</td>\n      <td>Cathy's Clown</td>\n      <td>The Everly Brothers</td>\n      <td>1960</td>\n    </tr>\n    <tr>\n      <th>3</th>\n      <td>4</td>\n      <td>Running Bear</td>\n      <td>Johnny Preston</td>\n      <td>1960</td>\n    </tr>\n    <tr>\n      <th>4</th>\n      <td>5</td>\n      <td>Teen Angel</td>\n      <td>Mark Dinning</td>\n      <td>1960</td>\n    </tr>\n  </tbody>\n</table>\n</div>"
     },
     "metadata": {},
     "execution_count": 2
    }
   ],
   "source": [
    "top100 = pd.read_csv('../data/RawYearlyTop100.csv')\n",
    "top100.head()"
   ]
  },
  {
   "cell_type": "code",
   "execution_count": 3,
   "metadata": {},
   "outputs": [
    {
     "output_type": "execute_result",
     "data": {
      "text/plain": [
       "  Rank                       Song            Artist(s)  Year  \\\n",
       "0    1  Theme from A Summer Place          Percy Faith  1960   \n",
       "1    2           He ll Have to Go           Jim Reeves  1960   \n",
       "2    3              Cathy s Clown  The Everly Brothers  1960   \n",
       "3    4               Running Bear       Johnny Preston  1960   \n",
       "4    5                 Teen Angel         Mark Dinning  1960   \n",
       "\n",
       "                                               Query  \n",
       "0  track:Theme from A Summer Place artist:Percy F...  \n",
       "1           track:He ll Have to Go artist:Jim Reeves  \n",
       "2     track:Cathy s Clown artist:The Everly Brothers  \n",
       "3           track:Running Bear artist:Johnny Preston  \n",
       "4               track:Teen Angel artist:Mark Dinning  "
      ],
      "text/html": "<div>\n<style scoped>\n    .dataframe tbody tr th:only-of-type {\n        vertical-align: middle;\n    }\n\n    .dataframe tbody tr th {\n        vertical-align: top;\n    }\n\n    .dataframe thead th {\n        text-align: right;\n    }\n</style>\n<table border=\"1\" class=\"dataframe\">\n  <thead>\n    <tr style=\"text-align: right;\">\n      <th></th>\n      <th>Rank</th>\n      <th>Song</th>\n      <th>Artist(s)</th>\n      <th>Year</th>\n      <th>Query</th>\n    </tr>\n  </thead>\n  <tbody>\n    <tr>\n      <th>0</th>\n      <td>1</td>\n      <td>Theme from A Summer Place</td>\n      <td>Percy Faith</td>\n      <td>1960</td>\n      <td>track:Theme from A Summer Place artist:Percy F...</td>\n    </tr>\n    <tr>\n      <th>1</th>\n      <td>2</td>\n      <td>He ll Have to Go</td>\n      <td>Jim Reeves</td>\n      <td>1960</td>\n      <td>track:He ll Have to Go artist:Jim Reeves</td>\n    </tr>\n    <tr>\n      <th>2</th>\n      <td>3</td>\n      <td>Cathy s Clown</td>\n      <td>The Everly Brothers</td>\n      <td>1960</td>\n      <td>track:Cathy s Clown artist:The Everly Brothers</td>\n    </tr>\n    <tr>\n      <th>3</th>\n      <td>4</td>\n      <td>Running Bear</td>\n      <td>Johnny Preston</td>\n      <td>1960</td>\n      <td>track:Running Bear artist:Johnny Preston</td>\n    </tr>\n    <tr>\n      <th>4</th>\n      <td>5</td>\n      <td>Teen Angel</td>\n      <td>Mark Dinning</td>\n      <td>1960</td>\n      <td>track:Teen Angel artist:Mark Dinning</td>\n    </tr>\n  </tbody>\n</table>\n</div>"
     },
     "metadata": {},
     "execution_count": 3
    }
   ],
   "source": [
    "top100[\"Artist(s)\"] = top100[\"Artist(s)\"].str.split('featuring', expand=True)[0]\n",
    "top100[\"Song\"] = top100[\"Song\"].str.replace(\"'\", \" \")\n",
    "top100[\"Query\"] = \"track:\" + top100[\"Song\"] + \" artist:\" + top100[\"Artist(s)\"]\n",
    "top100.head()"
   ]
  },
  {
   "cell_type": "code",
   "execution_count": 4,
   "metadata": {},
   "outputs": [],
   "source": [
    "with open('../config.json') as file:\n",
    "    app_data = json.load(file)\n",
    "\n",
    "sp = spotipy.Spotify(auth_manager=SpotifyClientCredentials( \\\n",
    "                     client_id=app_data['client_id'], \\\n",
    "                     client_secret=app_data['client_secret']))"
   ]
  },
  {
   "cell_type": "code",
   "execution_count": 26,
   "metadata": {},
   "outputs": [],
   "source": [
    "years = range(1966,1981)\n",
    "for year in years:\n",
    "    this_year = top100[top100['Year'] == year]\n",
    "    new_cols = list(this_year.columns) + ['ID', 'Popularity', 'Release Date']\n",
    "    results = pd.DataFrame(columns=new_cols)\n",
    "    no_results = pd.DataFrame()\n",
    "\n",
    "    for i, row in this_year.iterrows():\n",
    "        search_res = sp.search(q=row['Query'], limit=5)\n",
    "        tracks = search_res['tracks']['items']\n",
    "        if len(tracks) == 0:\n",
    "            no_results = no_results.append(row, ignore_index=True)\n",
    "        for idx, track in enumerate(tracks):\n",
    "            row['ID'] = track['id']\n",
    "            row['Popularity'] = track['popularity']\n",
    "            row['Release Date'] = track['album']['release_date']\n",
    "            results = results.append(row, ignore_index=True)\n",
    "\n",
    "    results.to_csv('../data/search-results/' + str(year) + '.csv', index=False)\n",
    "    no_results.to_csv('../data/search-results/' + str(year) + '_missing.csv', index=False)"
   ]
  },
  {
   "cell_type": "code",
   "execution_count": null,
   "metadata": {},
   "outputs": [],
   "source": []
  }
 ]
}