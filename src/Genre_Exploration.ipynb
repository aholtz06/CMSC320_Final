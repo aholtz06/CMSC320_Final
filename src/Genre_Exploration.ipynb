{
 "metadata": {
  "language_info": {
   "codemirror_mode": {
    "name": "ipython",
    "version": 3
   },
   "file_extension": ".py",
   "mimetype": "text/x-python",
   "name": "python",
   "nbconvert_exporter": "python",
   "pygments_lexer": "ipython3",
   "version": "3.8.5"
  },
  "orig_nbformat": 2,
  "kernelspec": {
   "name": "python385jvsc74a57bd0a6c8cccf23fc189a51b8b2ae4ca3b98de763e12cce4f9033fe8d82721c91cecc",
   "display_name": "Python 3.8.5 64-bit (conda)"
  }
 },
 "nbformat": 4,
 "nbformat_minor": 2,
 "cells": [
  {
   "cell_type": "code",
   "execution_count": 1,
   "metadata": {},
   "outputs": [],
   "source": [
    "import pandas as pd\n",
    "import matplotlib.pyplot as plt"
   ]
  },
  {
   "cell_type": "code",
   "execution_count": 2,
   "metadata": {},
   "outputs": [
    {
     "output_type": "stream",
     "name": "stdout",
     "text": [
      "<class 'pandas.core.frame.DataFrame'>\nRangeIndex: 1994 entries, 0 to 1993\nData columns (total 15 columns):\n #   Column                  Non-Null Count  Dtype \n---  ------                  --------------  ----- \n 0   Index                   1994 non-null   int64 \n 1   Title                   1994 non-null   object\n 2   Artist                  1994 non-null   object\n 3   Top Genre               1994 non-null   object\n 4   Year                    1994 non-null   int64 \n 5   Beats Per Minute (BPM)  1994 non-null   int64 \n 6   Energy                  1994 non-null   int64 \n 7   Danceability            1994 non-null   int64 \n 8   Loudness (dB)           1994 non-null   int64 \n 9   Liveness                1994 non-null   int64 \n 10  Valence                 1994 non-null   int64 \n 11  Length (Duration)       1994 non-null   object\n 12  Acousticness            1994 non-null   int64 \n 13  Speechiness             1994 non-null   int64 \n 14  Popularity              1994 non-null   int64 \ndtypes: int64(11), object(4)\nmemory usage: 233.8+ KB\n"
     ]
    }
   ],
   "source": [
    "data = pd.read_csv('../data/Spotify-2000.csv')\n",
    "data.info()"
   ]
  },
  {
   "cell_type": "code",
   "execution_count": null,
   "metadata": {},
   "outputs": [],
   "source": [
    "data[]"
   ]
  }
 ]
}