{
 "metadata": {
  "language_info": {
   "codemirror_mode": {
    "name": "ipython",
    "version": 3
   },
   "file_extension": ".py",
   "mimetype": "text/x-python",
   "name": "python",
   "nbconvert_exporter": "python",
   "pygments_lexer": "ipython3",
   "version": "2.7.17"
  },
  "orig_nbformat": 2,
  "kernelspec": {
   "name": "python2717jvsc74a57bd05c3b02fa24688d32a1d09351b7f8eac82a87272ad081601c73caead00a8e1fc4",
   "display_name": "Python 2.7.17 64-bit"
  },
  "metadata": {
   "interpreter": {
    "hash": "5c3b02fa24688d32a1d09351b7f8eac82a87272ad081601c73caead00a8e1fc4"
   }
  }
 },
 "nbformat": 4,
 "nbformat_minor": 2,
 "cells": [
  {
   "cell_type": "code",
   "execution_count": 10,
   "metadata": {},
   "outputs": [],
   "source": [
    "import pandas as pd\n",
    "import matplotlib.pyplot as plt"
   ]
  },
  {
   "cell_type": "code",
   "execution_count": 11,
   "metadata": {},
   "outputs": [
    {
     "output_type": "stream",
     "name": "stdout",
     "text": [
      "<class 'pandas.core.frame.DataFrame'>\nRangeIndex: 1994 entries, 0 to 1993\nData columns (total 15 columns):\nIndex                     1994 non-null int64\nTitle                     1994 non-null object\nArtist                    1994 non-null object\nTop Genre                 1994 non-null object\nYear                      1994 non-null int64\nBeats Per Minute (BPM)    1994 non-null int64\nEnergy                    1994 non-null int64\nDanceability              1994 non-null int64\nLoudness (dB)             1994 non-null int64\nLiveness                  1994 non-null int64\nValence                   1994 non-null int64\nLength (Duration)         1994 non-null object\nAcousticness              1994 non-null int64\nSpeechiness               1994 non-null int64\nPopularity                1994 non-null int64\ndtypes: int64(11), object(4)\nmemory usage: 233.7+ KB\n"
     ]
    }
   ],
   "source": [
    "data = pd.read_csv('../data/Spotify-2000.csv')\n",
    "data.info()"
   ]
  },
  {
   "cell_type": "code",
   "execution_count": 12,
   "metadata": {},
   "outputs": [
    {
     "output_type": "execute_result",
     "data": {
      "text/plain": [
       "{'acid': 1,\n",
       " 'acoustic': 4,\n",
       " 'adult': 123,\n",
       " 'afropop': 1,\n",
       " 'alaska': 1,\n",
       " 'album': 413,\n",
       " 'alternative': 187,\n",
       " 'ambient': 1,\n",
       " 'americana': 13,\n",
       " 'and': 1,\n",
       " 'anthem-folk': 1,\n",
       " 'arkansas': 9,\n",
       " 'art': 54,\n",
       " 'atl': 1,\n",
       " 'australian': 17,\n",
       " 'austropop': 2,\n",
       " 'band': 6,\n",
       " 'barbadian': 3,\n",
       " 'baroque': 6,\n",
       " 'basshall': 1,\n",
       " 'beat': 11,\n",
       " 'bebop': 1,\n",
       " 'belgian': 12,\n",
       " 'big': 18,\n",
       " 'blues': 23,\n",
       " 'bow': 2,\n",
       " 'boy': 6,\n",
       " 'brill': 6,\n",
       " 'british': 74,\n",
       " 'britpop': 11,\n",
       " 'bubblegum': 3,\n",
       " 'building': 6,\n",
       " 'cabaret': 51,\n",
       " 'canadian': 14,\n",
       " 'candy': 2,\n",
       " 'carnaval': 10,\n",
       " 'ccm': 1,\n",
       " 'celtic': 13,\n",
       " 'chamber': 7,\n",
       " 'chanson': 9,\n",
       " 'chicago': 1,\n",
       " 'christelijk': 3,\n",
       " 'classic': 95,\n",
       " 'classical': 1,\n",
       " 'coast': 6,\n",
       " 'compositional': 1,\n",
       " 'contemporary': 3,\n",
       " 'country': 17,\n",
       " 'cyberpunk': 1,\n",
       " 'dance': 151,\n",
       " 'danish': 3,\n",
       " 'detroit': 7,\n",
       " 'disco': 18,\n",
       " 'diva': 1,\n",
       " 'downtempo': 4,\n",
       " 'dutch': 266,\n",
       " 'east': 6,\n",
       " 'edm': 3,\n",
       " 'electro': 8,\n",
       " 'electronica': 1,\n",
       " 'electropop': 3,\n",
       " 'eurodance': 3,\n",
       " 'europop': 27,\n",
       " 'finnish': 2,\n",
       " 'folk': 27,\n",
       " 'folk-pop': 4,\n",
       " 'funk': 18,\n",
       " 'fusion': 4,\n",
       " 'g': 5,\n",
       " 'gabba': 2,\n",
       " 'gangster': 1,\n",
       " 'garage': 4,\n",
       " 'german': 11,\n",
       " 'glam': 66,\n",
       " 'gold': 11,\n",
       " 'happy': 1,\n",
       " 'hard': 1,\n",
       " 'hardcore': 1,\n",
       " 'hip': 30,\n",
       " 'holler': 1,\n",
       " 'hop': 29,\n",
       " 'house': 2,\n",
       " 'icelandic': 1,\n",
       " 'indie': 81,\n",
       " 'invasion': 36,\n",
       " 'irish': 36,\n",
       " 'italian': 4,\n",
       " 'j-core': 1,\n",
       " 'jazz': 3,\n",
       " 'la': 1,\n",
       " 'laboratorio': 1,\n",
       " 'latin': 4,\n",
       " 'levenslied': 1,\n",
       " 'limburg': 10,\n",
       " 'mellow': 28,\n",
       " 'metal': 93,\n",
       " 'metropopolis': 4,\n",
       " 'modern': 56,\n",
       " 'motown': 1,\n",
       " 'nederpop': 2,\n",
       " 'neo': 19,\n",
       " 'new': 2,\n",
       " 'operatic': 1,\n",
       " 'permanent': 38,\n",
       " 'pop': 344,\n",
       " 'prog': 5,\n",
       " 'psych': 2,\n",
       " 'punk': 4,\n",
       " 'rap': 1,\n",
       " 'reggae': 12,\n",
       " 'rock': 856,\n",
       " 'rock-and-roll': 1,\n",
       " 'room': 7,\n",
       " 'schlager': 3,\n",
       " 'scottish': 2,\n",
       " 'singer-songwriter': 4,\n",
       " 'soft': 1,\n",
       " 'soul': 45,\n",
       " 'soundtrack': 1,\n",
       " 'standards': 123,\n",
       " 'stomp': 1,\n",
       " 'streektaal': 1,\n",
       " 'trance': 1,\n",
       " 'uk': 23,\n",
       " 'vocal': 1,\n",
       " 'wave': 40,\n",
       " 'yacht': 1}"
      ]
     },
     "metadata": {},
     "execution_count": 12
    }
   ],
   "source": [
    "categories = {}\n",
    "for genre in data['Top Genre']:\n",
    "    words = genre.split(' ')\n",
    "    for word in words:\n",
    "        if word in categories:\n",
    "            categories[word] += 1\n",
    "        else:\n",
    "            categories[word] = 1\n",
    "{k: v for k, v in sorted(categories.items(), key=lambda item: item[1], reverse=True)}"
   ]
  },
  {
   "cell_type": "code",
   "execution_count": 13,
   "metadata": {},
   "outputs": [],
   "source": [
    "for i, row in data.iterrows():\n",
    "    if \"pop\" in row['Top Genre']: \n",
    "        data.at[i,'Genre Classification'] = 2\n",
    "    elif \"rock\" in row['Top Genre']:\n",
    "        data.at[i,'Genre Classification'] = 1\n",
    "    else: \n",
    "        data.at[i,'Genre Classification'] = 0\n",
    "\n",
    "# TODO: Deal with pop rock and metal "
   ]
  },
  {
   "cell_type": "code",
   "execution_count": 14,
   "metadata": {},
   "outputs": [
    {
     "output_type": "execute_result",
     "data": {
      "text/html": "<div>\n<style scoped>\n    .dataframe tbody tr th:only-of-type {\n        vertical-align: middle;\n    }\n\n    .dataframe tbody tr th {\n        vertical-align: top;\n    }\n\n    .dataframe thead th {\n        text-align: right;\n    }\n</style>\n<table border=\"1\" class=\"dataframe\">\n  <thead>\n    <tr style=\"text-align: right;\">\n      <th></th>\n      <th>Index</th>\n      <th>Title</th>\n      <th>Artist</th>\n      <th>Top Genre</th>\n      <th>Year</th>\n      <th>Beats Per Minute (BPM)</th>\n      <th>Energy</th>\n      <th>Danceability</th>\n      <th>Loudness (dB)</th>\n      <th>Liveness</th>\n      <th>Valence</th>\n      <th>Length (Duration)</th>\n      <th>Acousticness</th>\n      <th>Speechiness</th>\n      <th>Popularity</th>\n      <th>Genre Classification</th>\n    </tr>\n  </thead>\n  <tbody>\n    <tr>\n      <th>0</th>\n      <td>1</td>\n      <td>Sunrise</td>\n      <td>Norah Jones</td>\n      <td>adult standards</td>\n      <td>2004</td>\n      <td>157</td>\n      <td>30</td>\n      <td>53</td>\n      <td>-14</td>\n      <td>11</td>\n      <td>68</td>\n      <td>201</td>\n      <td>94</td>\n      <td>3</td>\n      <td>71</td>\n      <td>0.0</td>\n    </tr>\n    <tr>\n      <th>1</th>\n      <td>2</td>\n      <td>Black Night</td>\n      <td>Deep Purple</td>\n      <td>album rock</td>\n      <td>2000</td>\n      <td>135</td>\n      <td>79</td>\n      <td>50</td>\n      <td>-11</td>\n      <td>17</td>\n      <td>81</td>\n      <td>207</td>\n      <td>17</td>\n      <td>7</td>\n      <td>39</td>\n      <td>1.0</td>\n    </tr>\n    <tr>\n      <th>2</th>\n      <td>3</td>\n      <td>Clint Eastwood</td>\n      <td>Gorillaz</td>\n      <td>alternative hip hop</td>\n      <td>2001</td>\n      <td>168</td>\n      <td>69</td>\n      <td>66</td>\n      <td>-9</td>\n      <td>7</td>\n      <td>52</td>\n      <td>341</td>\n      <td>2</td>\n      <td>17</td>\n      <td>69</td>\n      <td>0.0</td>\n    </tr>\n    <tr>\n      <th>3</th>\n      <td>4</td>\n      <td>The Pretender</td>\n      <td>Foo Fighters</td>\n      <td>alternative metal</td>\n      <td>2007</td>\n      <td>173</td>\n      <td>96</td>\n      <td>43</td>\n      <td>-4</td>\n      <td>3</td>\n      <td>37</td>\n      <td>269</td>\n      <td>0</td>\n      <td>4</td>\n      <td>76</td>\n      <td>0.0</td>\n    </tr>\n    <tr>\n      <th>4</th>\n      <td>5</td>\n      <td>Waitin' On A Sunny Day</td>\n      <td>Bruce Springsteen</td>\n      <td>classic rock</td>\n      <td>2002</td>\n      <td>106</td>\n      <td>82</td>\n      <td>58</td>\n      <td>-5</td>\n      <td>10</td>\n      <td>87</td>\n      <td>256</td>\n      <td>1</td>\n      <td>3</td>\n      <td>59</td>\n      <td>1.0</td>\n    </tr>\n    <tr>\n      <th>5</th>\n      <td>6</td>\n      <td>The Road Ahead (Miles Of The Unknown)</td>\n      <td>City To City</td>\n      <td>alternative pop rock</td>\n      <td>2004</td>\n      <td>99</td>\n      <td>46</td>\n      <td>54</td>\n      <td>-9</td>\n      <td>14</td>\n      <td>14</td>\n      <td>247</td>\n      <td>0</td>\n      <td>2</td>\n      <td>45</td>\n      <td>2.0</td>\n    </tr>\n    <tr>\n      <th>6</th>\n      <td>7</td>\n      <td>She Will Be Loved</td>\n      <td>Maroon 5</td>\n      <td>pop</td>\n      <td>2002</td>\n      <td>102</td>\n      <td>71</td>\n      <td>71</td>\n      <td>-6</td>\n      <td>13</td>\n      <td>54</td>\n      <td>257</td>\n      <td>6</td>\n      <td>3</td>\n      <td>74</td>\n      <td>2.0</td>\n    </tr>\n    <tr>\n      <th>7</th>\n      <td>8</td>\n      <td>Knights of Cydonia</td>\n      <td>Muse</td>\n      <td>modern rock</td>\n      <td>2006</td>\n      <td>137</td>\n      <td>96</td>\n      <td>37</td>\n      <td>-5</td>\n      <td>12</td>\n      <td>21</td>\n      <td>366</td>\n      <td>0</td>\n      <td>14</td>\n      <td>69</td>\n      <td>1.0</td>\n    </tr>\n    <tr>\n      <th>8</th>\n      <td>9</td>\n      <td>Mr. Brightside</td>\n      <td>The Killers</td>\n      <td>modern rock</td>\n      <td>2004</td>\n      <td>148</td>\n      <td>92</td>\n      <td>36</td>\n      <td>-4</td>\n      <td>10</td>\n      <td>23</td>\n      <td>223</td>\n      <td>0</td>\n      <td>8</td>\n      <td>77</td>\n      <td>1.0</td>\n    </tr>\n    <tr>\n      <th>9</th>\n      <td>10</td>\n      <td>Without Me</td>\n      <td>Eminem</td>\n      <td>detroit hip hop</td>\n      <td>2002</td>\n      <td>112</td>\n      <td>67</td>\n      <td>91</td>\n      <td>-3</td>\n      <td>24</td>\n      <td>66</td>\n      <td>290</td>\n      <td>0</td>\n      <td>7</td>\n      <td>82</td>\n      <td>0.0</td>\n    </tr>\n  </tbody>\n</table>\n</div>",
      "text/plain": [
       "   Index                                  Title             Artist  \\\n",
       "0      1                                Sunrise        Norah Jones   \n",
       "1      2                            Black Night        Deep Purple   \n",
       "2      3                         Clint Eastwood           Gorillaz   \n",
       "3      4                          The Pretender       Foo Fighters   \n",
       "4      5                 Waitin' On A Sunny Day  Bruce Springsteen   \n",
       "5      6  The Road Ahead (Miles Of The Unknown)       City To City   \n",
       "6      7                      She Will Be Loved           Maroon 5   \n",
       "7      8                     Knights of Cydonia               Muse   \n",
       "8      9                         Mr. Brightside        The Killers   \n",
       "9     10                             Without Me             Eminem   \n",
       "\n",
       "              Top Genre  Year  Beats Per Minute (BPM)  Energy  Danceability  \\\n",
       "0       adult standards  2004                     157      30            53   \n",
       "1            album rock  2000                     135      79            50   \n",
       "2   alternative hip hop  2001                     168      69            66   \n",
       "3     alternative metal  2007                     173      96            43   \n",
       "4          classic rock  2002                     106      82            58   \n",
       "5  alternative pop rock  2004                      99      46            54   \n",
       "6                   pop  2002                     102      71            71   \n",
       "7           modern rock  2006                     137      96            37   \n",
       "8           modern rock  2004                     148      92            36   \n",
       "9       detroit hip hop  2002                     112      67            91   \n",
       "\n",
       "   Loudness (dB)  Liveness  Valence Length (Duration)  Acousticness  \\\n",
       "0            -14        11       68               201            94   \n",
       "1            -11        17       81               207            17   \n",
       "2             -9         7       52               341             2   \n",
       "3             -4         3       37               269             0   \n",
       "4             -5        10       87               256             1   \n",
       "5             -9        14       14               247             0   \n",
       "6             -6        13       54               257             6   \n",
       "7             -5        12       21               366             0   \n",
       "8             -4        10       23               223             0   \n",
       "9             -3        24       66               290             0   \n",
       "\n",
       "   Speechiness  Popularity  Genre Classification  \n",
       "0            3          71                   0.0  \n",
       "1            7          39                   1.0  \n",
       "2           17          69                   0.0  \n",
       "3            4          76                   0.0  \n",
       "4            3          59                   1.0  \n",
       "5            2          45                   2.0  \n",
       "6            3          74                   2.0  \n",
       "7           14          69                   1.0  \n",
       "8            8          77                   1.0  \n",
       "9            7          82                   0.0  "
      ]
     },
     "metadata": {},
     "execution_count": 14
    }
   ],
   "source": [
    "data.head(10)"
   ]
  },
  {
   "cell_type": "code",
   "execution_count": 15,
   "metadata": {},
   "outputs": [
    {
     "output_type": "stream",
     "name": "stdout",
     "text": [
      "YEET\n",
      "YEET\n",
      "YEET\n",
      "YEET\n",
      "YEET\n",
      "YEET\n",
      "YEET\n",
      "YEET\n",
      "YEET\n",
      "YEET\n"
     ]
    }
   ],
   "source": []
  },
  {
   "cell_type": "code",
   "execution_count": null,
   "metadata": {},
   "outputs": [],
   "source": []
  },
  {
   "cell_type": "code",
   "execution_count": null,
   "metadata": {},
   "outputs": [],
   "source": []
  }
 ]
}