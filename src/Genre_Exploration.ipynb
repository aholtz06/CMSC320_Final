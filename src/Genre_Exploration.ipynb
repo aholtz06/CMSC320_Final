{
 "metadata": {
  "language_info": {
   "codemirror_mode": {
    "name": "ipython",
    "version": 3
   },
   "file_extension": ".py",
   "mimetype": "text/x-python",
   "name": "python",
   "nbconvert_exporter": "python",
   "pygments_lexer": "ipython3",
   "version": "2.7.17"
  },
  "orig_nbformat": 2,
  "kernelspec": {
   "name": "python2717jvsc74a57bd05c3b02fa24688d32a1d09351b7f8eac82a87272ad081601c73caead00a8e1fc4",
   "display_name": "Python 2.7.17 64-bit"
  },
  "metadata": {
   "interpreter": {
    "hash": "5c3b02fa24688d32a1d09351b7f8eac82a87272ad081601c73caead00a8e1fc4"
   }
  }
 },
 "nbformat": 4,
 "nbformat_minor": 2,
 "cells": [
  {
   "cell_type": "code",
   "execution_count": 7,
   "metadata": {},
   "outputs": [],
   "source": [
    "# imports\n",
    "import pandas as pd\n",
    "import matplotlib.pyplot as plt\n",
    "from sklearn import linear_model\n",
    "import scipy"
   ]
  },
  {
   "source": [
    "Part 1: Data Wrangling\n",
    "==="
   ],
   "cell_type": "markdown",
   "metadata": {}
  },
  {
   "cell_type": "code",
   "execution_count": 8,
   "metadata": {},
   "outputs": [
    {
     "output_type": "stream",
     "name": "stdout",
     "text": [
      "<class 'pandas.core.frame.DataFrame'>\nRangeIndex: 1994 entries, 0 to 1993\nData columns (total 15 columns):\nIndex                     1994 non-null int64\nTitle                     1994 non-null object\nArtist                    1994 non-null object\nTop Genre                 1994 non-null object\nYear                      1994 non-null int64\nBeats Per Minute (BPM)    1994 non-null int64\nEnergy                    1994 non-null int64\nDanceability              1994 non-null int64\nLoudness (dB)             1994 non-null int64\nLiveness                  1994 non-null int64\nValence                   1994 non-null int64\nDuration (Seconds)        1994 non-null int64\nAcousticness              1994 non-null int64\nSpeechiness               1994 non-null int64\nPopularity                1994 non-null int64\ndtypes: int64(12), object(3)\nmemory usage: 233.7+ KB\n"
     ]
    },
    {
     "output_type": "execute_result",
     "data": {
      "text/html": "<div>\n<style scoped>\n    .dataframe tbody tr th:only-of-type {\n        vertical-align: middle;\n    }\n\n    .dataframe tbody tr th {\n        vertical-align: top;\n    }\n\n    .dataframe thead th {\n        text-align: right;\n    }\n</style>\n<table border=\"1\" class=\"dataframe\">\n  <thead>\n    <tr style=\"text-align: right;\">\n      <th></th>\n      <th>Index</th>\n      <th>Title</th>\n      <th>Artist</th>\n      <th>Top Genre</th>\n      <th>Year</th>\n      <th>Beats Per Minute (BPM)</th>\n      <th>Energy</th>\n      <th>Danceability</th>\n      <th>Loudness (dB)</th>\n      <th>Liveness</th>\n      <th>Valence</th>\n      <th>Duration (Seconds)</th>\n      <th>Acousticness</th>\n      <th>Speechiness</th>\n      <th>Popularity</th>\n    </tr>\n  </thead>\n  <tbody>\n    <tr>\n      <th>0</th>\n      <td>1</td>\n      <td>Sunrise</td>\n      <td>Norah Jones</td>\n      <td>adult standards</td>\n      <td>2004</td>\n      <td>157</td>\n      <td>30</td>\n      <td>53</td>\n      <td>-14</td>\n      <td>11</td>\n      <td>68</td>\n      <td>201</td>\n      <td>94</td>\n      <td>3</td>\n      <td>71</td>\n    </tr>\n    <tr>\n      <th>1</th>\n      <td>2</td>\n      <td>Black Night</td>\n      <td>Deep Purple</td>\n      <td>album rock</td>\n      <td>2000</td>\n      <td>135</td>\n      <td>79</td>\n      <td>50</td>\n      <td>-11</td>\n      <td>17</td>\n      <td>81</td>\n      <td>207</td>\n      <td>17</td>\n      <td>7</td>\n      <td>39</td>\n    </tr>\n    <tr>\n      <th>2</th>\n      <td>3</td>\n      <td>Clint Eastwood</td>\n      <td>Gorillaz</td>\n      <td>alternative hip hop</td>\n      <td>2001</td>\n      <td>168</td>\n      <td>69</td>\n      <td>66</td>\n      <td>-9</td>\n      <td>7</td>\n      <td>52</td>\n      <td>341</td>\n      <td>2</td>\n      <td>17</td>\n      <td>69</td>\n    </tr>\n    <tr>\n      <th>3</th>\n      <td>4</td>\n      <td>The Pretender</td>\n      <td>Foo Fighters</td>\n      <td>alternative metal</td>\n      <td>2007</td>\n      <td>173</td>\n      <td>96</td>\n      <td>43</td>\n      <td>-4</td>\n      <td>3</td>\n      <td>37</td>\n      <td>269</td>\n      <td>0</td>\n      <td>4</td>\n      <td>76</td>\n    </tr>\n    <tr>\n      <th>4</th>\n      <td>5</td>\n      <td>Waitin' On A Sunny Day</td>\n      <td>Bruce Springsteen</td>\n      <td>classic rock</td>\n      <td>2002</td>\n      <td>106</td>\n      <td>82</td>\n      <td>58</td>\n      <td>-5</td>\n      <td>10</td>\n      <td>87</td>\n      <td>256</td>\n      <td>1</td>\n      <td>3</td>\n      <td>59</td>\n    </tr>\n  </tbody>\n</table>\n</div>",
      "text/plain": [
       "   Index                   Title             Artist            Top Genre  \\\n",
       "0      1                 Sunrise        Norah Jones      adult standards   \n",
       "1      2             Black Night        Deep Purple           album rock   \n",
       "2      3          Clint Eastwood           Gorillaz  alternative hip hop   \n",
       "3      4           The Pretender       Foo Fighters    alternative metal   \n",
       "4      5  Waitin' On A Sunny Day  Bruce Springsteen         classic rock   \n",
       "\n",
       "   Year  Beats Per Minute (BPM)  Energy  Danceability  Loudness (dB)  \\\n",
       "0  2004                     157      30            53            -14   \n",
       "1  2000                     135      79            50            -11   \n",
       "2  2001                     168      69            66             -9   \n",
       "3  2007                     173      96            43             -4   \n",
       "4  2002                     106      82            58             -5   \n",
       "\n",
       "   Liveness  Valence  Duration (Seconds)  Acousticness  Speechiness  \\\n",
       "0        11       68                 201            94            3   \n",
       "1        17       81                 207            17            7   \n",
       "2         7       52                 341             2           17   \n",
       "3         3       37                 269             0            4   \n",
       "4        10       87                 256             1            3   \n",
       "\n",
       "   Popularity  \n",
       "0          71  \n",
       "1          39  \n",
       "2          69  \n",
       "3          76  \n",
       "4          59  "
      ]
     },
     "metadata": {},
     "execution_count": 8
    }
   ],
   "source": [
    "# load data from csv\n",
    "data = pd.read_csv('../data/Spotify-2000.csv')\n",
    "\n",
    "# convert Length (Duration) column to int64 and relabel with units\n",
    "data['Length (Duration)'] = data['Length (Duration)'].str.replace(\",\", \"\")\n",
    "data['Length (Duration)'] = data['Length (Duration)'].astype('int64')\n",
    "data = data.rename(columns={'Length (Duration)': 'Duration (Seconds)'})\n",
    "\n",
    "# display summary information\n",
    "data.info()\n",
    "data.head()"
   ]
  },
  {
   "source": [
    "Part 2: Exploratory Data Analysis\n",
    "==="
   ],
   "cell_type": "markdown",
   "metadata": {}
  },
  {
   "cell_type": "code",
   "execution_count": 9,
   "metadata": {},
   "outputs": [
    {
     "output_type": "execute_result",
     "data": {
      "text/plain": [
       "[('basshall', 1),\n",
       " ('gold', 11),\n",
       " ('dance', 151),\n",
       " ('contemporary', 3),\n",
       " ('edm', 3),\n",
       " ('psych', 2),\n",
       " ('alternative', 187),\n",
       " ('cabaret', 51)]"
      ]
     },
     "metadata": {},
     "execution_count": 9
    }
   ],
   "source": [
    "# create dictionary of word frequency in genre\n",
    "categories = {}\n",
    "for genre in data['Top Genre']:\n",
    "    words = genre.split(' ')\n",
    "    for word in words:\n",
    "        if word in categories:\n",
    "            categories[word] += 1\n",
    "        else:\n",
    "            categories[word] = 1\n",
    "\n",
    "# sort dictionary by frequency to get most common overall genre categories\n",
    "list({k: v for k, v in sorted(categories.items(), key=lambda item: item[1], reverse=True)}.items())[:8]"
   ]
  },
  {
   "cell_type": "code",
   "execution_count": 10,
   "metadata": {},
   "outputs": [
    {
     "output_type": "execute_result",
     "data": {
      "text/html": "<div>\n<style scoped>\n    .dataframe tbody tr th:only-of-type {\n        vertical-align: middle;\n    }\n\n    .dataframe tbody tr th {\n        vertical-align: top;\n    }\n\n    .dataframe thead th {\n        text-align: right;\n    }\n</style>\n<table border=\"1\" class=\"dataframe\">\n  <thead>\n    <tr style=\"text-align: right;\">\n      <th></th>\n      <th>Index</th>\n      <th>Title</th>\n      <th>Artist</th>\n      <th>Top Genre</th>\n      <th>Year</th>\n      <th>Beats Per Minute (BPM)</th>\n      <th>Energy</th>\n      <th>Danceability</th>\n      <th>Loudness (dB)</th>\n      <th>Liveness</th>\n      <th>Valence</th>\n      <th>Duration (Seconds)</th>\n      <th>Acousticness</th>\n      <th>Speechiness</th>\n      <th>Popularity</th>\n      <th>Genre Classification</th>\n    </tr>\n  </thead>\n  <tbody>\n    <tr>\n      <th>0</th>\n      <td>1</td>\n      <td>Sunrise</td>\n      <td>Norah Jones</td>\n      <td>adult standards</td>\n      <td>2004</td>\n      <td>157</td>\n      <td>30</td>\n      <td>53</td>\n      <td>-14</td>\n      <td>11</td>\n      <td>68</td>\n      <td>201</td>\n      <td>94</td>\n      <td>3</td>\n      <td>71</td>\n      <td>0.0</td>\n    </tr>\n    <tr>\n      <th>1</th>\n      <td>2</td>\n      <td>Black Night</td>\n      <td>Deep Purple</td>\n      <td>album rock</td>\n      <td>2000</td>\n      <td>135</td>\n      <td>79</td>\n      <td>50</td>\n      <td>-11</td>\n      <td>17</td>\n      <td>81</td>\n      <td>207</td>\n      <td>17</td>\n      <td>7</td>\n      <td>39</td>\n      <td>1.0</td>\n    </tr>\n    <tr>\n      <th>2</th>\n      <td>3</td>\n      <td>Clint Eastwood</td>\n      <td>Gorillaz</td>\n      <td>alternative hip hop</td>\n      <td>2001</td>\n      <td>168</td>\n      <td>69</td>\n      <td>66</td>\n      <td>-9</td>\n      <td>7</td>\n      <td>52</td>\n      <td>341</td>\n      <td>2</td>\n      <td>17</td>\n      <td>69</td>\n      <td>0.0</td>\n    </tr>\n    <tr>\n      <th>3</th>\n      <td>4</td>\n      <td>The Pretender</td>\n      <td>Foo Fighters</td>\n      <td>alternative metal</td>\n      <td>2007</td>\n      <td>173</td>\n      <td>96</td>\n      <td>43</td>\n      <td>-4</td>\n      <td>3</td>\n      <td>37</td>\n      <td>269</td>\n      <td>0</td>\n      <td>4</td>\n      <td>76</td>\n      <td>0.0</td>\n    </tr>\n    <tr>\n      <th>4</th>\n      <td>5</td>\n      <td>Waitin' On A Sunny Day</td>\n      <td>Bruce Springsteen</td>\n      <td>classic rock</td>\n      <td>2002</td>\n      <td>106</td>\n      <td>82</td>\n      <td>58</td>\n      <td>-5</td>\n      <td>10</td>\n      <td>87</td>\n      <td>256</td>\n      <td>1</td>\n      <td>3</td>\n      <td>59</td>\n      <td>1.0</td>\n    </tr>\n    <tr>\n      <th>5</th>\n      <td>6</td>\n      <td>The Road Ahead (Miles Of The Unknown)</td>\n      <td>City To City</td>\n      <td>alternative pop rock</td>\n      <td>2004</td>\n      <td>99</td>\n      <td>46</td>\n      <td>54</td>\n      <td>-9</td>\n      <td>14</td>\n      <td>14</td>\n      <td>247</td>\n      <td>0</td>\n      <td>2</td>\n      <td>45</td>\n      <td>2.0</td>\n    </tr>\n    <tr>\n      <th>6</th>\n      <td>7</td>\n      <td>She Will Be Loved</td>\n      <td>Maroon 5</td>\n      <td>pop</td>\n      <td>2002</td>\n      <td>102</td>\n      <td>71</td>\n      <td>71</td>\n      <td>-6</td>\n      <td>13</td>\n      <td>54</td>\n      <td>257</td>\n      <td>6</td>\n      <td>3</td>\n      <td>74</td>\n      <td>2.0</td>\n    </tr>\n    <tr>\n      <th>7</th>\n      <td>8</td>\n      <td>Knights of Cydonia</td>\n      <td>Muse</td>\n      <td>modern rock</td>\n      <td>2006</td>\n      <td>137</td>\n      <td>96</td>\n      <td>37</td>\n      <td>-5</td>\n      <td>12</td>\n      <td>21</td>\n      <td>366</td>\n      <td>0</td>\n      <td>14</td>\n      <td>69</td>\n      <td>1.0</td>\n    </tr>\n  </tbody>\n</table>\n</div>",
      "text/plain": [
       "   Index                                  Title             Artist  \\\n",
       "0      1                                Sunrise        Norah Jones   \n",
       "1      2                            Black Night        Deep Purple   \n",
       "2      3                         Clint Eastwood           Gorillaz   \n",
       "3      4                          The Pretender       Foo Fighters   \n",
       "4      5                 Waitin' On A Sunny Day  Bruce Springsteen   \n",
       "5      6  The Road Ahead (Miles Of The Unknown)       City To City   \n",
       "6      7                      She Will Be Loved           Maroon 5   \n",
       "7      8                     Knights of Cydonia               Muse   \n",
       "\n",
       "              Top Genre  Year  Beats Per Minute (BPM)  Energy  Danceability  \\\n",
       "0       adult standards  2004                     157      30            53   \n",
       "1            album rock  2000                     135      79            50   \n",
       "2   alternative hip hop  2001                     168      69            66   \n",
       "3     alternative metal  2007                     173      96            43   \n",
       "4          classic rock  2002                     106      82            58   \n",
       "5  alternative pop rock  2004                      99      46            54   \n",
       "6                   pop  2002                     102      71            71   \n",
       "7           modern rock  2006                     137      96            37   \n",
       "\n",
       "   Loudness (dB)  Liveness  Valence  Duration (Seconds)  Acousticness  \\\n",
       "0            -14        11       68                 201            94   \n",
       "1            -11        17       81                 207            17   \n",
       "2             -9         7       52                 341             2   \n",
       "3             -4         3       37                 269             0   \n",
       "4             -5        10       87                 256             1   \n",
       "5             -9        14       14                 247             0   \n",
       "6             -6        13       54                 257             6   \n",
       "7             -5        12       21                 366             0   \n",
       "\n",
       "   Speechiness  Popularity  Genre Classification  \n",
       "0            3          71                   0.0  \n",
       "1            7          39                   1.0  \n",
       "2           17          69                   0.0  \n",
       "3            4          76                   0.0  \n",
       "4            3          59                   1.0  \n",
       "5            2          45                   2.0  \n",
       "6            3          74                   2.0  \n",
       "7           14          69                   1.0  "
      ]
     },
     "metadata": {},
     "execution_count": 10
    }
   ],
   "source": [
    "# label data with the selected genre categories\n",
    "for i, row in data.iterrows():\n",
    "    if \"pop\" in row['Top Genre']: \n",
    "        data.at[i,'Genre Classification'] = 2\n",
    "    elif \"rock\" in row['Top Genre']:\n",
    "        data.at[i,'Genre Classification'] = 1\n",
    "    else: \n",
    "        data.at[i,'Genre Classification'] = 0\n",
    "\n",
    "# TODO: Deal with pop rock and metal \n",
    "\n",
    "# display\n",
    "data.head(8)"
   ]
  },
  {
   "cell_type": "code",
   "execution_count": 11,
   "metadata": {},
   "outputs": [
    {
     "output_type": "error",
     "ename": "SyntaxError",
     "evalue": "invalid syntax (<ipython-input-11-656f1ff9e008>, line 27)",
     "traceback": [
      "\u001b[1;36m  File \u001b[1;32m\"<ipython-input-11-656f1ff9e008>\"\u001b[1;36m, line \u001b[1;32m27\u001b[0m\n\u001b[1;33m    ax[genre, i].set_title(f'{feature} in {genre_name} music')\u001b[0m\n\u001b[1;37m                                                            ^\u001b[0m\n\u001b[1;31mSyntaxError\u001b[0m\u001b[1;31m:\u001b[0m invalid syntax\n"
     ]
    }
   ],
   "source": [
    "features = data.columns[5:15]\n",
    "fig, ax = plt.subplots(3,10,figsize=(60,20))\n",
    "# plt.subplots_adjust(hspace=1.2)\n",
    "for i, feature in enumerate(features):\n",
    "\n",
    "    for genre in range(0,3):\n",
    "        lm = linear_model.LinearRegression()\n",
    "\n",
    "        frame = data[data['Genre Classification'] == genre]\n",
    "        x = pd.DataFrame(frame['Year'])\n",
    "        y = pd.DataFrame(frame['Acousticness'])\n",
    "\n",
    "        lm.fit(x,y)\n",
    "\n",
    "        ax[genre, i].scatter(x,y,s=5)\n",
    "\n",
    "        genre_name =''\n",
    "        if genre == 2.0:\n",
    "            genre_name = \"pop\"\n",
    "        elif genre == 1.0:\n",
    "            genre_name = \"rock\"\n",
    "        else:\n",
    "            genre_name = \"other\"\n",
    "\n",
    "        ax[genre, i].set_xlabel(\"year\")\n",
    "        ax[genre, i].set_ylabel(feature)\n",
    "        ax[genre, i].set_title(f'{feature} in {genre_name} music')\n",
    "\n",
    "        ax[genre, i].plot(x, lm.predict(x), color='red')"
   ]
  },
  {
   "source": [
    "# Part 3: Hypothesis Testing"
   ],
   "cell_type": "markdown",
   "metadata": {}
  },
  {
   "cell_type": "code",
   "execution_count": null,
   "metadata": {},
   "outputs": [],
   "source": [
    "feature_list = ['Beats Per Minute (BPM)', 'Danceability', 'Energy', 'Loudness (dB)', 'Liveness',\n",
    "                'Valence','Duration (Seconds)','Acousticness','Speechiness']\n",
    "\n",
    "for feature in feature_list:\n",
    "    n_bins = 20\n",
    "\n",
    "    x = data[data['Genre Classification'] == 0][feature]\n",
    "    y = data[data['Genre Classification'] == 1][feature]\n",
    "    z = data[data['Genre Classification'] == 2][feature]\n",
    "\n",
    "    fig, axs = plt.subplots(1, 3,figsize= (4,3),sharey=True)\n",
    "\n",
    "    fig.suptitle(\"Distributions of \" + feature)\n",
    "    axs[0].hist(x, bins=n_bins);\n",
    "    axs[1].hist(y, bins=n_bins);\n",
    "    axs[2].hist(z, bins=n_bins);\n"
   ]
  },
  {
   "cell_type": "code",
   "execution_count": null,
   "metadata": {},
   "outputs": [],
   "source": [
    "for feature in feature_list:\n",
    "    x = data[data['Genre Classification'] == 0.0][feature]\n",
    "    y = data[data['Genre Classification'] == 1.0][feature]\n",
    "    z = data[data['Genre Classification'] == 2.0][feature]\n",
    "    t, p = scipy.stats.kruskal(x,y,z)\n",
    "    print(feature + \": t: \" + str(t) + \" p-value: \" + str(p))\n",
    "    print(\"\")"
   ]
  },
  {
   "cell_type": "code",
   "execution_count": null,
   "metadata": {},
   "outputs": [],
   "source": [
    "feature_list = ['Danceability', 'Energy', 'Loudness (dB)',\n",
    "                'Valence','Duration (Seconds)','Acousticness']\n",
    "X = []\n",
    "Y = []\n",
    "for i, row in data.iterrows():\n",
    "    x = []\n",
    "    for feature in feature_list:\n",
    "        x.append(row[feature])\n",
    "    X.append(x)\n",
    "    Y.append(row['Genre Classification'])"
   ]
  },
  {
   "cell_type": "code",
   "execution_count": null,
   "metadata": {},
   "outputs": [],
   "source": [
    "from sklearn.discriminant_analysis import LinearDiscriminantAnalysis\n",
    "from sklearn.model_selection import cross_val_score\n",
    "from sklearn import svm\n",
    "\n",
    "lda_clf = LinearDiscriminantAnalysis()\n",
    "lda_scores = cross_val_score(lda_clf, X, Y, cv=10, scoring='accuracy')\n",
    "\n",
    "svm_clf = svm.SVC(kernel='linear', C=0.1, gamma = 1)\n",
    "svm_scores = cross_val_score(svm_clf, X, Y, cv=10, scoring='accuracy')"
   ]
  },
  {
   "cell_type": "code",
   "execution_count": null,
   "metadata": {},
   "outputs": [],
   "source": [
    "feature_list = ['Danceability', 'Energy', 'Loudness (dB)',\n",
    "                'Valence','Duration (Seconds)','Acousticness']\n",
    "X = []\n",
    "Y = []\n",
    "for i, row in data.iterrows():\n",
    "    x = []\n",
    "    for feature in feature_list:\n",
    "        x.append(row[feature])\n",
    "    X.append(x)\n",
    "\n",
    "    if row['Genre Classification'] == 2.0 or row['Genre Classification'] == 0.0:\n",
    "        Y.append(0)\n",
    "    else:\n",
    "        Y.append(1)"
   ]
  },
  {
   "cell_type": "code",
   "execution_count": null,
   "metadata": {},
   "outputs": [],
   "source": [
    "from sklearn.linear_model import LogisticRegressionCV\n",
    "\n",
    "lm = linear_model.LogisticRegression()\n",
    "clf = LogisticRegressionCV(cv=10).fit(X, Y);"
   ]
  },
  {
   "cell_type": "code",
   "execution_count": null,
   "metadata": {},
   "outputs": [],
   "source": [
    "from sklearn.ensemble import RandomForestClassifier\n",
    "\n",
    "rfc_clf = RandomForestClassifier(max_depth=20)\n",
    "rfc_clf.fit(X, Y)\n",
    "\n",
    "rfc_scores = cross_val_score(rfc_clf, X, Y, cv=10, scoring='accuracy')"
   ]
  },
  {
   "cell_type": "code",
   "execution_count": null,
   "metadata": {},
   "outputs": [],
   "source": []
  }
 ]
}