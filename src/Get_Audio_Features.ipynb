{
 "metadata": {
  "language_info": {
   "codemirror_mode": {
    "name": "ipython",
    "version": 3
   },
   "file_extension": ".py",
   "mimetype": "text/x-python",
   "name": "python",
   "nbconvert_exporter": "python",
   "pygments_lexer": "ipython3",
   "version": "2.7.17"
  },
  "orig_nbformat": 2,
  "kernelspec": {
   "name": "python2717jvsc74a57bd05c3b02fa24688d32a1d09351b7f8eac82a87272ad081601c73caead00a8e1fc4",
   "display_name": "Python 2.7.17 64-bit"
  },
  "metadata": {
   "interpreter": {
    "hash": "5c3b02fa24688d32a1d09351b7f8eac82a87272ad081601c73caead00a8e1fc4"
   }
  }
 },
 "nbformat": 4,
 "nbformat_minor": 2,
 "cells": [
  {
   "cell_type": "code",
   "execution_count": 1,
   "metadata": {},
   "outputs": [],
   "source": [
    "import pandas as pd\n",
    "import spotipy\n",
    "from spotipy.oauth2 import SpotifyClientCredentials\n",
    "import json"
   ]
  },
  {
   "cell_type": "code",
   "execution_count": 2,
   "metadata": {},
   "outputs": [],
   "source": [
    "with open('../config.json') as file:\n",
    "    app_data = json.load(file)\n",
    "\n",
    "sp = spotipy.Spotify(auth_manager=SpotifyClientCredentials( \\\n",
    "                     client_id=app_data['client_id'], \\\n",
    "                     client_secret=app_data['client_secret']))"
   ]
  },
  {
   "cell_type": "code",
   "execution_count": 31,
   "metadata": {},
   "outputs": [],
   "source": [
    "all_years = pd.read_csv('../data/search-results/all_selected.csv')\n",
    "delete_row = all_years[(all_years[\"Year\"]==2005.0) & (all_years[\"Rank\"] == '80')].index\n",
    "all_years = all_years.drop(delete_row)"
   ]
  },
  {
   "cell_type": "code",
   "execution_count": 32,
   "metadata": {
    "tags": []
   },
   "outputs": [],
   "source": [
    "all_audio_features = pd.DataFrame()\n",
    "for year_val, year in all_years.groupby('Year'):\n",
    "    audio_features = pd.DataFrame (sp.audio_features(tracks=year['ID']))\n",
    "    year_and_features = year.merge(audio_features, left_on='ID', right_on='id', how='inner')\n",
    "    year_and_features = year_and_features.drop(columns=['track_href','type','uri','analysis_url','id'])\n",
    "    all_audio_features = all_audio_features.append(year_and_features)"
   ]
  },
  {
   "cell_type": "code",
   "execution_count": 41,
   "metadata": {},
   "outputs": [],
   "source": [
    "for a, song in all_audio_features.groupby(['Rank','Year']):\n",
    "    if len(song) > 1:\n",
    "        print(a)\n",
    "\n",
    "all_audio_features = all_audio_features.drop_duplicates(keep = 'first')"
   ]
  },
  {
   "cell_type": "code",
   "execution_count": 42,
   "metadata": {},
   "outputs": [
    {
     "output_type": "stream",
     "name": "stdout",
     "text": [
      "<class 'pandas.core.frame.DataFrame'>\nInt64Index: 5930 entries, 0 to 96\nData columns (total 24 columns):\nAlbum ID            5930 non-null object\nArtist IDs          5930 non-null object\nArtist(s)           5930 non-null object\nID                  5930 non-null object\nPopularity          5930 non-null float64\nQuery               5930 non-null object\nRank                5930 non-null object\nRelease Date        5930 non-null object\nSong                5930 non-null object\nSong ID             0 non-null float64\nYear                5930 non-null float64\nacousticness        5930 non-null float64\ndanceability        5930 non-null float64\nduration_ms         5930 non-null int64\nenergy              5930 non-null float64\ninstrumentalness    5930 non-null float64\nkey                 5930 non-null int64\nliveness            5930 non-null float64\nloudness            5930 non-null float64\nmode                5930 non-null int64\nspeechiness         5930 non-null float64\ntempo               5930 non-null float64\ntime_signature      5930 non-null int64\nvalence             5930 non-null float64\ndtypes: float64(12), int64(4), object(8)\nmemory usage: 1.1+ MB\n"
     ]
    }
   ],
   "source": [
    "all_audio_features.info()"
   ]
  },
  {
   "cell_type": "code",
   "execution_count": null,
   "metadata": {},
   "outputs": [],
   "source": []
  }
 ]
}