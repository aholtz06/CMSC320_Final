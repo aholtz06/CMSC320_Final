{
 "metadata": {
  "language_info": {
   "codemirror_mode": {
    "name": "ipython",
    "version": 3
   },
   "file_extension": ".py",
   "mimetype": "text/x-python",
   "name": "python",
   "nbconvert_exporter": "python",
   "pygments_lexer": "ipython3",
   "version": "3.8.5"
  },
  "orig_nbformat": 2,
  "kernelspec": {
   "name": "python385jvsc74a57bd0a6c8cccf23fc189a51b8b2ae4ca3b98de763e12cce4f9033fe8d82721c91cecc",
   "display_name": "Python 3.8.5 64-bit (conda)"
  }
 },
 "nbformat": 4,
 "nbformat_minor": 2,
 "cells": [
  {
   "cell_type": "code",
   "execution_count": 1,
   "metadata": {},
   "outputs": [],
   "source": [
    "import pandas as pd"
   ]
  },
  {
   "cell_type": "code",
   "execution_count": 2,
   "metadata": {},
   "outputs": [],
   "source": [
    "results = pd.read_csv('../data/search-results/all.csv')\n",
    "results.loc[results['Release Date'] == \"0000\",'Release Date'] = None\n",
    "results['Release Date'] = pd.to_datetime(results['Release Date'])"
   ]
  },
  {
   "cell_type": "code",
   "execution_count": 35,
   "metadata": {
    "tags": []
   },
   "outputs": [],
   "source": [
    "selected = pd.DataFrame()\n",
    "for q, song in results.groupby(['Query','Year']):\n",
    "    oldest = song.iloc[0]\n",
    "    for i, result in song.iterrows():\n",
    "        if (result['Release Date']) < (oldest['Release Date']):\n",
    "            oldest = result\n",
    "    selected = selected.append(oldest, ignore_index=True)\n",
    "selected.info()"
   ]
  },
  {
   "cell_type": "code",
   "execution_count": 36,
   "metadata": {},
   "outputs": [
    {
     "output_type": "stream",
     "name": "stdout",
     "text": [
      "<class 'pandas.core.frame.DataFrame'>\nRangeIndex: 6070 entries, 0 to 6069\nData columns (total 10 columns):\n #   Column        Non-Null Count  Dtype         \n---  ------        --------------  -----         \n 0   Album ID      6070 non-null   object        \n 1   Artist IDs    6070 non-null   object        \n 2   Artist(s)     6070 non-null   object        \n 3   ID            6070 non-null   object        \n 4   Popularity    6070 non-null   float64       \n 5   Query         6070 non-null   object        \n 6   Rank          6070 non-null   float64       \n 7   Release Date  6070 non-null   datetime64[ns]\n 8   Song          6070 non-null   object        \n 9   Year          6070 non-null   float64       \ndtypes: datetime64[ns](1), float64(3), object(6)\nmemory usage: 474.3+ KB\n"
     ]
    }
   ],
   "source": [
    "selected.info()"
   ]
  },
  {
   "cell_type": "code",
   "execution_count": 18,
   "metadata": {},
   "outputs": [],
   "source": [
    "selected.to_csv('../data/search-results/all_selected.csv', index=False)"
   ]
  },
  {
   "cell_type": "code",
   "execution_count": 45,
   "metadata": {},
   "outputs": [
    {
     "output_type": "execute_result",
     "data": {
      "text/plain": [
       "1.0     2261\n",
       "2.0      207\n",
       "3.0       56\n",
       "5.0       47\n",
       "4.0       40\n",
       "7.0       29\n",
       "6.0       24\n",
       "9.0       10\n",
       "8.0        8\n",
       "11.0       7\n",
       "10.0       6\n",
       "12.0       4\n",
       "25.0       3\n",
       "19.0       3\n",
       "18.0       2\n",
       "13.0       2\n",
       "15.0       2\n",
       "22.0       2\n",
       "16.0       2\n",
       "14.0       1\n",
       "17.0       1\n",
       "39.0       1\n",
       "44.0       1\n",
       "86.0       1\n",
       "dtype: int64"
      ]
     },
     "metadata": {},
     "execution_count": 45
    }
   ],
   "source": [
    "differences = ((selected['Year'] - selected['Release Date'].dt.year)) # given in days\n",
    "differences[differences > 0].value_counts()"
   ]
  }
 ]
}