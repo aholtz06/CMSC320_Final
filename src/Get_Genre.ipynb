{
 "metadata": {
  "language_info": {
   "codemirror_mode": {
    "name": "ipython",
    "version": 3
   },
   "file_extension": ".py",
   "mimetype": "text/x-python",
   "name": "python",
   "nbconvert_exporter": "python",
   "pygments_lexer": "ipython3",
   "version": "3.8.5"
  },
  "orig_nbformat": 2,
  "kernelspec": {
   "name": "python385jvsc74a57bd0a6c8cccf23fc189a51b8b2ae4ca3b98de763e12cce4f9033fe8d82721c91cecc",
   "display_name": "Python 3.8.5 64-bit (conda)"
  },
  "metadata": {
   "interpreter": {
    "hash": "31dbb8e072f8bca76913a6aad0b16dca6478026130cae71aa19b1cdaa8f14d7f"
   }
  }
 },
 "nbformat": 4,
 "nbformat_minor": 2,
 "cells": [
  {
   "cell_type": "code",
   "execution_count": 16,
   "metadata": {},
   "outputs": [],
   "source": [
    "import pandas as pd\n",
    "import numpy as np\n",
    "import spotipy\n",
    "from spotipy.oauth2 import SpotifyClientCredentials\n",
    "import json"
   ]
  },
  {
   "cell_type": "code",
   "execution_count": 2,
   "metadata": {},
   "outputs": [],
   "source": [
    "with open('../config.json') as file:\n",
    "    app_data = json.load(file)\n",
    "\n",
    "sp = spotipy.Spotify(auth_manager=SpotifyClientCredentials( \\\n",
    "                     client_id=app_data['client_id'], \\\n",
    "                     client_secret=app_data['client_secret']))"
   ]
  },
  {
   "cell_type": "code",
   "execution_count": 3,
   "metadata": {},
   "outputs": [
    {
     "output_type": "execute_result",
     "data": {
      "text/plain": [
       "                 Album ID                  Artist IDs    Artist(s)  \\\n",
       "0  3bbdZdZQtCtnWEN5zG7Eyj  ['3Z02hBLubJxuFJfhacLSDc']  Bryan Adams   \n",
       "\n",
       "                       ID  Popularity  \\\n",
       "0  5HQ6AUDMbMuwktvcNPuV1y        36.0   \n",
       "\n",
       "                                               Query  Rank Release Date  \\\n",
       "0  track:(Everything I Do) I Do It for You artist...   1.0   1991-01-01   \n",
       "\n",
       "                                Song    Year  ...  loudness  mode  \\\n",
       "0  (Everything I Do) I Do It for You  1991.0  ...   -13.452     1   \n",
       "\n",
       "   speechiness  acousticness  instrumentalness  liveness  valence    tempo  \\\n",
       "0       0.0289        0.0648          0.000013     0.055    0.273  131.189   \n",
       "\n",
       "   duration_ms  time_signature  \n",
       "0       398027               4  \n",
       "\n",
       "[1 rows x 23 columns]"
      ],
      "text/html": "<div>\n<style scoped>\n    .dataframe tbody tr th:only-of-type {\n        vertical-align: middle;\n    }\n\n    .dataframe tbody tr th {\n        vertical-align: top;\n    }\n\n    .dataframe thead th {\n        text-align: right;\n    }\n</style>\n<table border=\"1\" class=\"dataframe\">\n  <thead>\n    <tr style=\"text-align: right;\">\n      <th></th>\n      <th>Album ID</th>\n      <th>Artist IDs</th>\n      <th>Artist(s)</th>\n      <th>ID</th>\n      <th>Popularity</th>\n      <th>Query</th>\n      <th>Rank</th>\n      <th>Release Date</th>\n      <th>Song</th>\n      <th>Year</th>\n      <th>...</th>\n      <th>loudness</th>\n      <th>mode</th>\n      <th>speechiness</th>\n      <th>acousticness</th>\n      <th>instrumentalness</th>\n      <th>liveness</th>\n      <th>valence</th>\n      <th>tempo</th>\n      <th>duration_ms</th>\n      <th>time_signature</th>\n    </tr>\n  </thead>\n  <tbody>\n    <tr>\n      <th>0</th>\n      <td>3bbdZdZQtCtnWEN5zG7Eyj</td>\n      <td>['3Z02hBLubJxuFJfhacLSDc']</td>\n      <td>Bryan Adams</td>\n      <td>5HQ6AUDMbMuwktvcNPuV1y</td>\n      <td>36.0</td>\n      <td>track:(Everything I Do) I Do It for You artist...</td>\n      <td>1.0</td>\n      <td>1991-01-01</td>\n      <td>(Everything I Do) I Do It for You</td>\n      <td>1991.0</td>\n      <td>...</td>\n      <td>-13.452</td>\n      <td>1</td>\n      <td>0.0289</td>\n      <td>0.0648</td>\n      <td>0.000013</td>\n      <td>0.055</td>\n      <td>0.273</td>\n      <td>131.189</td>\n      <td>398027</td>\n      <td>4</td>\n    </tr>\n  </tbody>\n</table>\n<p>1 rows × 23 columns</p>\n</div>"
     },
     "metadata": {},
     "execution_count": 3
    }
   ],
   "source": [
    "all_years = pd.read_csv('../data/Billboard_Audio_Features.csv')\n",
    "all_years.head(1)"
   ]
  },
  {
   "cell_type": "code",
   "execution_count": 59,
   "metadata": {
    "tags": []
   },
   "outputs": [],
   "source": [
    "all_years = pd.read_csv('../data/Billboard_Audio_Features.csv')\n",
    "all_years['Artist IDs'] = all_years['Artist IDs'].str.lstrip('[').str.rstrip(']')\n",
    "all_years['Primary Artist ID'] = all_years['Artist IDs'].str.split(',', expand = True)[0].str.strip(\"'\")\n",
    "all_years['Genres'] = pd.Series(dtype=object)\n",
    "all_with_genres = pd.DataFrame(columns=all_years.columns)"
   ]
  },
  {
   "cell_type": "code",
   "execution_count": 65,
   "metadata": {},
   "outputs": [],
   "source": [
    "all_years = all_years.tail(3408)\n",
    "for i, row in all_years.iterrows():\n",
    "    artist = sp.artist(row['Primary Artist ID'])\n",
    "    row['Genres'] = \", \".join(artist[\"genres\"])\n",
    "    all_with_genres = all_with_genres.append(row, ignore_index= True)"
   ]
  },
  {
   "cell_type": "code",
   "execution_count": 67,
   "metadata": {},
   "outputs": [],
   "source": [
    "all_with_genres.to_csv('../data/Billboard_Audio_Features.csv', index=False)"
   ]
  },
  {
   "cell_type": "code",
   "execution_count": 18,
   "metadata": {},
   "outputs": [],
   "source": [
    "data = pd.read_csv('../data/Billboard_Audio_Features.csv')\n",
    "data['Genres'] = data['Genres'].replace(np.nan, \"\")"
   ]
  },
  {
   "cell_type": "code",
   "execution_count": 20,
   "metadata": {},
   "outputs": [
    {
     "output_type": "execute_result",
     "data": {
      "text/plain": [
       "[('pop', 3542),\n",
       " ('rock', 2367),\n",
       " ('classic', 1332),\n",
       " ('dance', 1283),\n",
       " ('mellow', 1248),\n",
       " ('soft', 1168),\n",
       " ('gold', 1095),\n",
       " ('hip', 1030),\n",
       " ('rap', 1006),\n",
       " ('contemporary', 990),\n",
       " ('new', 885),\n",
       " ('soul', 874),\n",
       " ('folk', 848),\n",
       " ('urban', 788),\n",
       " ('hop', 778)]"
      ]
     },
     "metadata": {},
     "execution_count": 20
    }
   ],
   "source": [
    "# create dictionary of word frequency in genre\n",
    "categories = {}\n",
    "for genre in data['Genres']:\n",
    "    genre = genre.replace(\",\", \"\")\n",
    "    words = genre.split(' ')\n",
    "    uniques = []\n",
    "    for word in words:\n",
    "        if word not in uniques:\n",
    "            uniques.append(word)\n",
    "    for word in uniques:\n",
    "        if word in categories:\n",
    "            categories[word] += 1\n",
    "        else:\n",
    "            categories[word] = 1\n",
    "\n",
    "# sort dictionary by frequency to get most common overall genre categories\n",
    "list({k: v for k, v in sorted(categories.items(), key=lambda item: item[1], reverse=True)}.items())[:15]"
   ]
  },
  {
   "cell_type": "code",
   "execution_count": 22,
   "metadata": {},
   "outputs": [
    {
     "output_type": "execute_result",
     "data": {
      "text/plain": [
       "[('pop', 1597),\n",
       " ('rock', 1164),\n",
       " ('hip', 351),\n",
       " ('', 323),\n",
       " ('soul', 307),\n",
       " ('rap', 306),\n",
       " ('adult', 281),\n",
       " ('country', 252),\n",
       " ('new', 172),\n",
       " ('disco', 113),\n",
       " ('funk', 76),\n",
       " ('boy', 71),\n",
       " ('bubblegum', 70),\n",
       " ('classic', 65),\n",
       " ('metal', 52)]"
      ]
     },
     "metadata": {},
     "execution_count": 22
    }
   ],
   "source": [
    "import operator\n",
    "\n",
    "# create dictionary of word frequency in genre\n",
    "categories = {}\n",
    "for genre in data['Genres']:\n",
    "    genre = genre.replace(\",\", \"\")\n",
    "    words = genre.split(' ')\n",
    "    count = {}\n",
    "    for word in words:\n",
    "        if word in count:\n",
    "            count[word] += 1\n",
    "        else:\n",
    "            count[word] = 1\n",
    "    word = max(count.items(), key=operator.itemgetter(1))[0]\n",
    "    if word in categories:\n",
    "        categories[word] += 1\n",
    "    else:\n",
    "        categories[word] = 1\n",
    "\n",
    "# sort dictionary by frequency to get most common overall genre categories\n",
    "list({k: v for k, v in sorted(categories.items(), key=lambda item: item[1], reverse=True)}.items())[:15]"
   ]
  }
 ]
}