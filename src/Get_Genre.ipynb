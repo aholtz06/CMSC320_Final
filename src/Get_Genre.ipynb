{
 "metadata": {
  "language_info": {
   "codemirror_mode": {
    "name": "ipython",
    "version": 3
   },
   "file_extension": ".py",
   "mimetype": "text/x-python",
   "name": "python",
   "nbconvert_exporter": "python",
   "pygments_lexer": "ipython3",
   "version": "3.8.10"
  },
  "orig_nbformat": 2,
  "kernelspec": {
   "name": "python3810jvsc74a57bd031dbb8e072f8bca76913a6aad0b16dca6478026130cae71aa19b1cdaa8f14d7f",
   "display_name": "Python 3.8.10 64-bit ('PythonSoftwareFoundation.Python.3.8_qbz5n2kfra8p0')"
  },
  "metadata": {
   "interpreter": {
    "hash": "31dbb8e072f8bca76913a6aad0b16dca6478026130cae71aa19b1cdaa8f14d7f"
   }
  }
 },
 "nbformat": 4,
 "nbformat_minor": 2,
 "cells": [
  {
   "cell_type": "code",
   "execution_count": 1,
   "metadata": {},
   "outputs": [],
   "source": [
    "import pandas as pd\n",
    "import numpy as np\n",
    "import spotipy\n",
    "from spotipy.oauth2 import SpotifyClientCredentials\n",
    "import json"
   ]
  },
  {
   "cell_type": "code",
   "execution_count": null,
   "metadata": {},
   "outputs": [],
   "source": [
    "with open('../config.json') as file:\n",
    "    app_data = json.load(file)\n",
    "\n",
    "sp = spotipy.Spotify(auth_manager=SpotifyClientCredentials( \\\n",
    "                     client_id=app_data['client_id'], \\\n",
    "                     client_secret=app_data['client_secret']))"
   ]
  },
  {
   "cell_type": "code",
   "execution_count": null,
   "metadata": {},
   "outputs": [],
   "source": [
    "all_years = pd.read_csv('../data/Billboard_Audio_Features.csv')\n",
    "all_years.head(1)"
   ]
  },
  {
   "cell_type": "code",
   "execution_count": null,
   "metadata": {
    "tags": []
   },
   "outputs": [],
   "source": [
    "all_years = pd.read_csv('../data/Billboard_Audio_Features.csv')\n",
    "all_years['Artist IDs'] = all_years['Artist IDs'].str.lstrip('[').str.rstrip(']')\n",
    "all_years['Primary Artist ID'] = all_years['Artist IDs'].str.split(',', expand = True)[0].str.strip(\"'\")\n",
    "all_years['Genres'] = pd.Series(dtype=object)\n",
    "all_with_genres = pd.DataFrame(columns=all_years.columns)"
   ]
  },
  {
   "cell_type": "code",
   "execution_count": null,
   "metadata": {},
   "outputs": [],
   "source": [
    "all_years = all_years.tail(3408)\n",
    "for i, row in all_years.iterrows():\n",
    "    artist = sp.artist(row['Primary Artist ID'])\n",
    "    row['Genres'] = \", \".join(artist[\"genres\"])\n",
    "    all_with_genres = all_with_genres.append(row, ignore_index= True)"
   ]
  },
  {
   "cell_type": "code",
   "execution_count": null,
   "metadata": {},
   "outputs": [],
   "source": [
    "all_with_genres.to_csv('../data/Billboard_Audio_Features.csv', index=False)"
   ]
  },
  {
   "cell_type": "code",
   "execution_count": 11,
   "metadata": {},
   "outputs": [
    {
     "output_type": "stream",
     "name": "stdout",
     "text": [
      "<class 'pandas.core.frame.DataFrame'>\nInt64Index: 5746 entries, 0 to 6068\nData columns (total 25 columns):\n #   Column             Non-Null Count  Dtype  \n---  ------             --------------  -----  \n 0   Album ID           5746 non-null   object \n 1   Artist IDs         5746 non-null   object \n 2   Artist(s)          5746 non-null   object \n 3   ID                 5746 non-null   object \n 4   Popularity         5746 non-null   float64\n 5   Query              5746 non-null   object \n 6   Rank               5746 non-null   float64\n 7   Release Date       5746 non-null   object \n 8   Song               5746 non-null   object \n 9   Year               5746 non-null   float64\n 10  danceability       5746 non-null   float64\n 11  energy             5746 non-null   float64\n 12  key                5746 non-null   int64  \n 13  loudness           5746 non-null   float64\n 14  mode               5746 non-null   int64  \n 15  speechiness        5746 non-null   float64\n 16  acousticness       5746 non-null   float64\n 17  instrumentalness   5746 non-null   float64\n 18  liveness           5746 non-null   float64\n 19  valence            5746 non-null   float64\n 20  tempo              5746 non-null   float64\n 21  duration_ms        5746 non-null   int64  \n 22  time_signature     5746 non-null   int64  \n 23  Primary Artist ID  5746 non-null   object \n 24  Genres             5746 non-null   object \ndtypes: float64(12), int64(4), object(9)\nmemory usage: 1.1+ MB\n"
     ]
    }
   ],
   "source": [
    "data = pd.read_csv('../data/Billboard_Audio_Features.csv')\n",
    "data = data.dropna()\n",
    "data.info()"
   ]
  },
  {
   "cell_type": "code",
   "execution_count": 40,
   "metadata": {},
   "outputs": [],
   "source": [
    "# rewrite with np.where or apply\r\n",
    "new_data = pd.DataFrame(columns=data.columns)\r\n",
    "\r\n",
    "for i, row in data.iterrows():\r\n",
    "    genre = np.nan\r\n",
    "    genres = row[\"Genres\"]\r\n",
    "    if \"country\" in genres:\r\n",
    "        genre = \"country\"\r\n",
    "    elif \"disco\" in genres:\r\n",
    "        genre = \"disco\"\r\n",
    "    elif \"edm\" in genres or \"electro\" in genres:\r\n",
    "        genre = \"edm\"\r\n",
    "    elif \"r&b\" in genres or \"soul\" in genres:\r\n",
    "        genre = \"soul/r&b\"\r\n",
    "    elif \"hip hop\" in genres or \"rap\" in genres:\r\n",
    "        genre = \"hip hop/rap\"\r\n",
    "    elif \"alternative\" in genres or \"indie\" in genres:\r\n",
    "        genre = \"alternative/indie\"\r\n",
    "    elif \"rock\" in genres or \"pop\" in genres:\r\n",
    "        rock = 0\r\n",
    "        pop = 0\r\n",
    "        for g in genres.split(','):\r\n",
    "            if \"rock\" in g:\r\n",
    "                rock += 1\r\n",
    "            if \"pop\" in g:\r\n",
    "                pop += 1\r\n",
    "        if rock >= pop:\r\n",
    "            genre = \"rock\"\r\n",
    "        else:\r\n",
    "            genre = \"pop\"\r\n",
    "    row[\"Top Genre\"] = genre\r\n",
    "    new_data = new_data.append(row)\r\n",
    "\r\n",
    "new_data['Top Genre'].value_counts()"
   ]
  },
  {
   "cell_type": "code",
   "execution_count": 42,
   "metadata": {},
   "outputs": [],
   "source": [
    "new_data.to_csv('../data/Billboard_Audio_Features.csv', index=False)"
   ]
  },
  {
   "cell_type": "code",
   "execution_count": 39,
   "metadata": {},
   "outputs": [
    {
     "output_type": "execute_result",
     "data": {
      "text/plain": [
       "[('disco', 404),\n",
       " ('quiet storm', 272),\n",
       " ('motown', 255),\n",
       " ('funk', 221),\n",
       " ('soul', 207),\n",
       " ('soft rock', 173),\n",
       " ('mellow gold', 143),\n",
       " ('adult standards', 133),\n",
       " ('classic soul', 118),\n",
       " ('post-disco', 115),\n",
       " ('new wave pop', 79),\n",
       " ('urban contemporary', 57),\n",
       " ('bubblegum pop', 50),\n",
       " ('brill building pop', 49),\n",
       " ('southern soul', 45)]"
      ]
     },
     "metadata": {},
     "execution_count": 39
    }
   ],
   "source": [
    "# create dictionary of word frequency in genre\n",
    "categories = {}\n",
    "test = new_data[new_data[\"Top Genre\"] == 'disco']\n",
    "for genre in test['Genres']:\n",
    "    #genre = genre.replace(\",\", \"\")\n",
    "    genres = genre.split(',')\n",
    "    words = [x.strip() for x in genres]\n",
    "    uniques = []\n",
    "    for word in words:\n",
    "        if word not in uniques:\n",
    "            uniques.append(word)\n",
    "    for word in uniques:\n",
    "        if word in categories:\n",
    "            categories[word] += 1\n",
    "        else:\n",
    "            categories[word] = 1\n",
    "\n",
    "# sort dictionary by frequency to get most common overall genre categories\n",
    "list({k: v for k, v in sorted(categories.items(), key=lambda item: item[1], reverse=True)}.items())[:15]"
   ]
  },
  {
   "cell_type": "code",
   "execution_count": null,
   "metadata": {},
   "outputs": [],
   "source": [
    "import operator\n",
    "\n",
    "# create dictionary of word frequency in genre\n",
    "categories = {}\n",
    "for genre in data['Genres']:\n",
    "    genre = genre.replace(\",\", \"\")\n",
    "    words = genre.split(' ')\n",
    "    count = {}\n",
    "    for word in words:\n",
    "        if word in count:\n",
    "            count[word] += 1\n",
    "        else:\n",
    "            count[word] = 1\n",
    "    word = max(count.items(), key=operator.itemgetter(1))[0]\n",
    "    if word in categories:\n",
    "        categories[word] += 1\n",
    "    else:\n",
    "        categories[word] = 1\n",
    "\n",
    "# sort dictionary by frequency to get most common overall genre categories\n",
    "list({k: v for k, v in sorted(categories.items(), key=lambda item: item[1], reverse=True)}.items())"
   ]
  }
 ]
}