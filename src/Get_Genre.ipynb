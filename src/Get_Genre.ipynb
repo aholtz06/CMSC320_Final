{
 "metadata": {
  "language_info": {
   "codemirror_mode": {
    "name": "ipython",
    "version": 3
   },
   "file_extension": ".py",
   "mimetype": "text/x-python",
   "name": "python",
   "nbconvert_exporter": "python",
   "pygments_lexer": "ipython3",
   "version": "3.8.5"
  },
  "orig_nbformat": 2,
  "kernelspec": {
   "name": "python385jvsc74a57bd0a6c8cccf23fc189a51b8b2ae4ca3b98de763e12cce4f9033fe8d82721c91cecc",
   "display_name": "Python 3.8.5 64-bit (conda)"
  },
  "metadata": {
   "interpreter": {
    "hash": "5c3b02fa24688d32a1d09351b7f8eac82a87272ad081601c73caead00a8e1fc4"
   }
  }
 },
 "nbformat": 4,
 "nbformat_minor": 2,
 "cells": [
  {
   "cell_type": "code",
   "execution_count": 1,
   "metadata": {},
   "outputs": [],
   "source": [
    "import pandas as pd\n",
    "import spotipy\n",
    "from spotipy.oauth2 import SpotifyClientCredentials\n",
    "import json"
   ]
  },
  {
   "cell_type": "code",
   "execution_count": 2,
   "metadata": {},
   "outputs": [],
   "source": [
    "with open('../config.json') as file:\n",
    "    app_data = json.load(file)\n",
    "\n",
    "sp = spotipy.Spotify(auth_manager=SpotifyClientCredentials( \\\n",
    "                     client_id=app_data['client_id'], \\\n",
    "                     client_secret=app_data['client_secret']))"
   ]
  },
  {
   "cell_type": "code",
   "execution_count": 3,
   "metadata": {},
   "outputs": [],
   "source": [
    "all_years = pd.read_csv('../data/Billboard_Audio_Features.csv')"
   ]
  },
  {
   "cell_type": "code",
   "execution_count": 4,
   "metadata": {
    "tags": []
   },
   "outputs": [],
   "source": [
    "all_genres = pd.DataFrame()\n",
    "for rank_val, rank in all_years.groupby('Rank'):\n",
    "    audio_features = pd.DataFrame (sp.artist(tracks=rank['ID']))\n",
    "    rank_and_features = rank.merge(audio_features, left_on='ID', right_on='id', how='inner')\n",
    "    rank_and_features = rank_and_features.drop(columns=['track_href','type','uri','analysis_url','id'])\n",
    "    all_audio_features = all_audio_features.append(rank_and_features)"
   ]
  },
  {
   "cell_type": "code",
   "execution_count": 5,
   "metadata": {},
   "outputs": [
    {
     "output_type": "stream",
     "name": "stdout",
     "text": [
      "(100.0, 1969.0)\n"
     ]
    }
   ],
   "source": [
    "for a, song in all_audio_features.groupby(['Rank','Year']):\n",
    "    if len(song) > 1:\n",
    "        print(a)\n",
    "\n",
    "# all_audio_features = all_audio_features.drop_duplicates(keep = 'first')"
   ]
  },
  {
   "cell_type": "code",
   "execution_count": 6,
   "metadata": {},
   "outputs": [
    {
     "output_type": "stream",
     "name": "stdout",
     "text": [
      "<class 'pandas.core.frame.DataFrame'>\nInt64Index: 6069 entries, 0 to 61\nData columns (total 23 columns):\n #   Column            Non-Null Count  Dtype  \n---  ------            --------------  -----  \n 0   Album ID          6069 non-null   object \n 1   Artist IDs        6069 non-null   object \n 2   Artist(s)         6069 non-null   object \n 3   ID                6069 non-null   object \n 4   Popularity        6069 non-null   float64\n 5   Query             6069 non-null   object \n 6   Rank              6069 non-null   float64\n 7   Release Date      6069 non-null   object \n 8   Song              6069 non-null   object \n 9   Year              6069 non-null   float64\n 10  danceability      6069 non-null   float64\n 11  energy            6069 non-null   float64\n 12  key               6069 non-null   int64  \n 13  loudness          6069 non-null   float64\n 14  mode              6069 non-null   int64  \n 15  speechiness       6069 non-null   float64\n 16  acousticness      6069 non-null   float64\n 17  instrumentalness  6069 non-null   float64\n 18  liveness          6069 non-null   float64\n 19  valence           6069 non-null   float64\n 20  tempo             6069 non-null   float64\n 21  duration_ms       6069 non-null   int64  \n 22  time_signature    6069 non-null   int64  \ndtypes: float64(12), int64(4), object(7)\nmemory usage: 1.1+ MB\n"
     ]
    }
   ],
   "source": [
    "all_audio_features.info()"
   ]
  },
  {
   "cell_type": "code",
   "execution_count": 8,
   "metadata": {},
   "outputs": [],
   "source": [
    "all_audio_features.to_csv('../data/Billboard_Audio_Features.csv', index=False)"
   ]
  }
 ]
}